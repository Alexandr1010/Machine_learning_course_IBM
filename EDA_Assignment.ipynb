{
 "cells": [
  {
   "cell_type": "markdown",
   "metadata": {},
   "source": [
    "# This is EDA for house price in a russian city Reutov (at Moscow region)"
   ]
  },
  {
   "cell_type": "markdown",
   "metadata": {},
   "source": [
    "Import libraries"
   ]
  },
  {
   "cell_type": "code",
   "execution_count": 81,
   "metadata": {},
   "outputs": [
    {
     "name": "stdout",
     "output_type": "stream",
     "text": [
      "Libraries are imported\n"
     ]
    }
   ],
   "source": [
    "import matplotlib.pyplot as plt\n",
    "import pandas.io.sql as pds\n",
    "import pandas as pd\n",
    "import numpy as np\n",
    "import math\n",
    "import seaborn as sns\n",
    "from scipy.stats import binom\n",
    "%matplotlib inline\n",
    "print('Libraries are imported')"
   ]
  },
  {
   "cell_type": "markdown",
   "metadata": {},
   "source": [
    "Filepath to the dataset I use and import\n",
    "\n",
    "'Data has bee take from mydata.biz website'"
   ]
  },
  {
   "cell_type": "code",
   "execution_count": 8,
   "metadata": {},
   "outputs": [],
   "source": [
    "file='City_Reutov.csv'"
   ]
  },
  {
   "cell_type": "code",
   "execution_count": 14,
   "metadata": {},
   "outputs": [
    {
     "data": {
      "text/html": [
       "<div>\n",
       "<style scoped>\n",
       "    .dataframe tbody tr th:only-of-type {\n",
       "        vertical-align: middle;\n",
       "    }\n",
       "\n",
       "    .dataframe tbody tr th {\n",
       "        vertical-align: top;\n",
       "    }\n",
       "\n",
       "    .dataframe thead th {\n",
       "        text-align: right;\n",
       "    }\n",
       "</style>\n",
       "<table border=\"1\" class=\"dataframe\">\n",
       "  <thead>\n",
       "    <tr style=\"text-align: right;\">\n",
       "      <th></th>\n",
       "      <th>id</th>\n",
       "      <th>RegionEn</th>\n",
       "      <th>CityEn</th>\n",
       "      <th>AddressEn</th>\n",
       "      <th>MinPricePerSqMeter</th>\n",
       "      <th>AvgPricePerSqMeter</th>\n",
       "      <th>MaxPricePerSqMeter</th>\n",
       "      <th>OffersCount</th>\n",
       "      <th>TotalFloors</th>\n",
       "      <th>WktPoint</th>\n",
       "      <th>Lat</th>\n",
       "      <th>Lon</th>\n",
       "      <th>OnDate</th>\n",
       "      <th>Source</th>\n",
       "    </tr>\n",
       "  </thead>\n",
       "  <tbody>\n",
       "    <tr>\n",
       "      <th>0</th>\n",
       "      <td>142704</td>\n",
       "      <td>Moscow oblast</td>\n",
       "      <td>Reutov</td>\n",
       "      <td>Moscow oblast, Balashikha, micro-district of S...</td>\n",
       "      <td>116000,0000</td>\n",
       "      <td>116000,0000</td>\n",
       "      <td>116000,0000</td>\n",
       "      <td>1</td>\n",
       "      <td>14</td>\n",
       "      <td>POINT(37.892044 55.752146)</td>\n",
       "      <td>55.752146</td>\n",
       "      <td>37.892044</td>\n",
       "      <td>01.10.2016 0:00:00</td>\n",
       "      <td>myData.biz</td>\n",
       "    </tr>\n",
       "    <tr>\n",
       "      <th>1</th>\n",
       "      <td>163038</td>\n",
       "      <td>Moscow oblast</td>\n",
       "      <td>Reutov</td>\n",
       "      <td>Moscow oblast, Balashikha, micro-district of S...</td>\n",
       "      <td>133000,0000</td>\n",
       "      <td>133000,0000</td>\n",
       "      <td>133000,0000</td>\n",
       "      <td>2</td>\n",
       "      <td>25</td>\n",
       "      <td>POINT(37.897056 55.752683)</td>\n",
       "      <td>55.752683</td>\n",
       "      <td>37.897056</td>\n",
       "      <td>01.10.2016 0:00:00</td>\n",
       "      <td>myData.biz</td>\n",
       "    </tr>\n",
       "    <tr>\n",
       "      <th>2</th>\n",
       "      <td>237779</td>\n",
       "      <td>Moscow oblast</td>\n",
       "      <td>Reutov</td>\n",
       "      <td>Moscow region, Podolsk urban district, the vil...</td>\n",
       "      <td>89000,0000</td>\n",
       "      <td>89000,0000</td>\n",
       "      <td>89000,0000</td>\n",
       "      <td>1</td>\n",
       "      <td>17</td>\n",
       "      <td>POINT(37.538377 55.387024)</td>\n",
       "      <td>55.387024</td>\n",
       "      <td>37.538377</td>\n",
       "      <td>01.02.2017 0:00:00</td>\n",
       "      <td>myData.biz</td>\n",
       "    </tr>\n",
       "    <tr>\n",
       "      <th>3</th>\n",
       "      <td>142707</td>\n",
       "      <td>Moscow oblast</td>\n",
       "      <td>Reutov</td>\n",
       "      <td>Moscow region, Reutov, 6A neighborhood, K2</td>\n",
       "      <td>80000,0000</td>\n",
       "      <td>88000,0000</td>\n",
       "      <td>99000,0000</td>\n",
       "      <td>17</td>\n",
       "      <td>25</td>\n",
       "      <td>POINT(37.848987 55.773768)</td>\n",
       "      <td>55.773768</td>\n",
       "      <td>37.848987</td>\n",
       "      <td>01.12.2016 0:00:00</td>\n",
       "      <td>myData.biz</td>\n",
       "    </tr>\n",
       "    <tr>\n",
       "      <th>4</th>\n",
       "      <td>142825</td>\n",
       "      <td>Moscow oblast</td>\n",
       "      <td>Reutov</td>\n",
       "      <td>Moscow region, Reutov, 6A neighborhood, K3</td>\n",
       "      <td>74000,0000</td>\n",
       "      <td>81000,0000</td>\n",
       "      <td>85000,0000</td>\n",
       "      <td>20</td>\n",
       "      <td>25</td>\n",
       "      <td>POINT(37.848655 55.775115)</td>\n",
       "      <td>55.775115</td>\n",
       "      <td>37.848655</td>\n",
       "      <td>01.12.2016 0:00:00</td>\n",
       "      <td>myData.biz</td>\n",
       "    </tr>\n",
       "  </tbody>\n",
       "</table>\n",
       "</div>"
      ],
      "text/plain": [
       "       id       RegionEn  CityEn  \\\n",
       "0  142704  Moscow oblast  Reutov   \n",
       "1  163038  Moscow oblast  Reutov   \n",
       "2  237779  Moscow oblast  Reutov   \n",
       "3  142707  Moscow oblast  Reutov   \n",
       "4  142825  Moscow oblast  Reutov   \n",
       "\n",
       "                                           AddressEn MinPricePerSqMeter  \\\n",
       "0  Moscow oblast, Balashikha, micro-district of S...        116000,0000   \n",
       "1  Moscow oblast, Balashikha, micro-district of S...        133000,0000   \n",
       "2  Moscow region, Podolsk urban district, the vil...         89000,0000   \n",
       "3         Moscow region, Reutov, 6A neighborhood, K2         80000,0000   \n",
       "4         Moscow region, Reutov, 6A neighborhood, K3         74000,0000   \n",
       "\n",
       "  AvgPricePerSqMeter MaxPricePerSqMeter  OffersCount  TotalFloors  \\\n",
       "0        116000,0000        116000,0000            1           14   \n",
       "1        133000,0000        133000,0000            2           25   \n",
       "2         89000,0000         89000,0000            1           17   \n",
       "3         88000,0000         99000,0000           17           25   \n",
       "4         81000,0000         85000,0000           20           25   \n",
       "\n",
       "                     WktPoint        Lat        Lon              OnDate  \\\n",
       "0  POINT(37.892044 55.752146)  55.752146  37.892044  01.10.2016 0:00:00   \n",
       "1  POINT(37.897056 55.752683)  55.752683  37.897056  01.10.2016 0:00:00   \n",
       "2  POINT(37.538377 55.387024)  55.387024  37.538377  01.02.2017 0:00:00   \n",
       "3  POINT(37.848987 55.773768)  55.773768  37.848987  01.12.2016 0:00:00   \n",
       "4  POINT(37.848655 55.775115)  55.775115  37.848655  01.12.2016 0:00:00   \n",
       "\n",
       "       Source  \n",
       "0  myData.biz  \n",
       "1  myData.biz  \n",
       "2  myData.biz  \n",
       "3  myData.biz  \n",
       "4  myData.biz  "
      ]
     },
     "execution_count": 14,
     "metadata": {},
     "output_type": "execute_result"
    }
   ],
   "source": [
    "data = pd.read_csv(file,sep=';')\n",
    "data.head()"
   ]
  },
  {
   "cell_type": "markdown",
   "metadata": {},
   "source": [
    "Drop some unnecessary columns and reduce the concentent of cells in column 'AdressEn'"
   ]
  },
  {
   "cell_type": "code",
   "execution_count": 12,
   "metadata": {},
   "outputs": [
    {
     "data": {
      "text/plain": [
       "array(['Reutov'], dtype=object)"
      ]
     },
     "execution_count": 12,
     "metadata": {},
     "output_type": "execute_result"
    }
   ],
   "source": [
    "data['CityEn'].unique()"
   ]
  },
  {
   "cell_type": "code",
   "execution_count": 15,
   "metadata": {},
   "outputs": [
    {
     "data": {
      "text/html": [
       "<div>\n",
       "<style scoped>\n",
       "    .dataframe tbody tr th:only-of-type {\n",
       "        vertical-align: middle;\n",
       "    }\n",
       "\n",
       "    .dataframe tbody tr th {\n",
       "        vertical-align: top;\n",
       "    }\n",
       "\n",
       "    .dataframe thead th {\n",
       "        text-align: right;\n",
       "    }\n",
       "</style>\n",
       "<table border=\"1\" class=\"dataframe\">\n",
       "  <thead>\n",
       "    <tr style=\"text-align: right;\">\n",
       "      <th></th>\n",
       "      <th>id</th>\n",
       "      <th>AddressEn</th>\n",
       "      <th>MinPricePerSqMeter</th>\n",
       "      <th>AvgPricePerSqMeter</th>\n",
       "      <th>MaxPricePerSqMeter</th>\n",
       "      <th>OffersCount</th>\n",
       "      <th>TotalFloors</th>\n",
       "      <th>Lat</th>\n",
       "      <th>Lon</th>\n",
       "      <th>OnDate</th>\n",
       "      <th>Source</th>\n",
       "    </tr>\n",
       "  </thead>\n",
       "  <tbody>\n",
       "    <tr>\n",
       "      <th>0</th>\n",
       "      <td>142704</td>\n",
       "      <td>Moscow oblast, Balashikha, micro-district of S...</td>\n",
       "      <td>116000,0000</td>\n",
       "      <td>116000,0000</td>\n",
       "      <td>116000,0000</td>\n",
       "      <td>1</td>\n",
       "      <td>14</td>\n",
       "      <td>55.752146</td>\n",
       "      <td>37.892044</td>\n",
       "      <td>01.10.2016 0:00:00</td>\n",
       "      <td>myData.biz</td>\n",
       "    </tr>\n",
       "    <tr>\n",
       "      <th>1</th>\n",
       "      <td>163038</td>\n",
       "      <td>Moscow oblast, Balashikha, micro-district of S...</td>\n",
       "      <td>133000,0000</td>\n",
       "      <td>133000,0000</td>\n",
       "      <td>133000,0000</td>\n",
       "      <td>2</td>\n",
       "      <td>25</td>\n",
       "      <td>55.752683</td>\n",
       "      <td>37.897056</td>\n",
       "      <td>01.10.2016 0:00:00</td>\n",
       "      <td>myData.biz</td>\n",
       "    </tr>\n",
       "    <tr>\n",
       "      <th>2</th>\n",
       "      <td>237779</td>\n",
       "      <td>Moscow region, Podolsk urban district, the vil...</td>\n",
       "      <td>89000,0000</td>\n",
       "      <td>89000,0000</td>\n",
       "      <td>89000,0000</td>\n",
       "      <td>1</td>\n",
       "      <td>17</td>\n",
       "      <td>55.387024</td>\n",
       "      <td>37.538377</td>\n",
       "      <td>01.02.2017 0:00:00</td>\n",
       "      <td>myData.biz</td>\n",
       "    </tr>\n",
       "    <tr>\n",
       "      <th>3</th>\n",
       "      <td>142707</td>\n",
       "      <td>Moscow region, Reutov, 6A neighborhood, K2</td>\n",
       "      <td>80000,0000</td>\n",
       "      <td>88000,0000</td>\n",
       "      <td>99000,0000</td>\n",
       "      <td>17</td>\n",
       "      <td>25</td>\n",
       "      <td>55.773768</td>\n",
       "      <td>37.848987</td>\n",
       "      <td>01.12.2016 0:00:00</td>\n",
       "      <td>myData.biz</td>\n",
       "    </tr>\n",
       "    <tr>\n",
       "      <th>4</th>\n",
       "      <td>142825</td>\n",
       "      <td>Moscow region, Reutov, 6A neighborhood, K3</td>\n",
       "      <td>74000,0000</td>\n",
       "      <td>81000,0000</td>\n",
       "      <td>85000,0000</td>\n",
       "      <td>20</td>\n",
       "      <td>25</td>\n",
       "      <td>55.775115</td>\n",
       "      <td>37.848655</td>\n",
       "      <td>01.12.2016 0:00:00</td>\n",
       "      <td>myData.biz</td>\n",
       "    </tr>\n",
       "  </tbody>\n",
       "</table>\n",
       "</div>"
      ],
      "text/plain": [
       "       id                                          AddressEn  \\\n",
       "0  142704  Moscow oblast, Balashikha, micro-district of S...   \n",
       "1  163038  Moscow oblast, Balashikha, micro-district of S...   \n",
       "2  237779  Moscow region, Podolsk urban district, the vil...   \n",
       "3  142707         Moscow region, Reutov, 6A neighborhood, K2   \n",
       "4  142825         Moscow region, Reutov, 6A neighborhood, K3   \n",
       "\n",
       "  MinPricePerSqMeter AvgPricePerSqMeter MaxPricePerSqMeter  OffersCount  \\\n",
       "0        116000,0000        116000,0000        116000,0000            1   \n",
       "1        133000,0000        133000,0000        133000,0000            2   \n",
       "2         89000,0000         89000,0000         89000,0000            1   \n",
       "3         80000,0000         88000,0000         99000,0000           17   \n",
       "4         74000,0000         81000,0000         85000,0000           20   \n",
       "\n",
       "   TotalFloors        Lat        Lon              OnDate      Source  \n",
       "0           14  55.752146  37.892044  01.10.2016 0:00:00  myData.biz  \n",
       "1           25  55.752683  37.897056  01.10.2016 0:00:00  myData.biz  \n",
       "2           17  55.387024  37.538377  01.02.2017 0:00:00  myData.biz  \n",
       "3           25  55.773768  37.848987  01.12.2016 0:00:00  myData.biz  \n",
       "4           25  55.775115  37.848655  01.12.2016 0:00:00  myData.biz  "
      ]
     },
     "execution_count": 15,
     "metadata": {},
     "output_type": "execute_result"
    }
   ],
   "source": [
    "data=data.drop(['RegionEn','CityEn','WktPoint'],axis=1)\n",
    "data.head()"
   ]
  },
  {
   "cell_type": "code",
   "execution_count": 18,
   "metadata": {},
   "outputs": [],
   "source": [
    "data['AddressEn']=data['AddressEn'].apply(lambda r: r.replace('Moscow oblast,', ''))\n",
    "data['AddressEn']=data['AddressEn'].apply(lambda r: r.replace('Moscow region,', ''))"
   ]
  },
  {
   "cell_type": "code",
   "execution_count": 19,
   "metadata": {},
   "outputs": [
    {
     "data": {
      "text/html": [
       "<div>\n",
       "<style scoped>\n",
       "    .dataframe tbody tr th:only-of-type {\n",
       "        vertical-align: middle;\n",
       "    }\n",
       "\n",
       "    .dataframe tbody tr th {\n",
       "        vertical-align: top;\n",
       "    }\n",
       "\n",
       "    .dataframe thead th {\n",
       "        text-align: right;\n",
       "    }\n",
       "</style>\n",
       "<table border=\"1\" class=\"dataframe\">\n",
       "  <thead>\n",
       "    <tr style=\"text-align: right;\">\n",
       "      <th></th>\n",
       "      <th>id</th>\n",
       "      <th>AddressEn</th>\n",
       "      <th>MinPricePerSqMeter</th>\n",
       "      <th>AvgPricePerSqMeter</th>\n",
       "      <th>MaxPricePerSqMeter</th>\n",
       "      <th>OffersCount</th>\n",
       "      <th>TotalFloors</th>\n",
       "      <th>Lat</th>\n",
       "      <th>Lon</th>\n",
       "      <th>OnDate</th>\n",
       "      <th>Source</th>\n",
       "    </tr>\n",
       "  </thead>\n",
       "  <tbody>\n",
       "    <tr>\n",
       "      <th>0</th>\n",
       "      <td>142704</td>\n",
       "      <td>Balashikha, micro-district of Saltykovka, nos...</td>\n",
       "      <td>116000,0000</td>\n",
       "      <td>116000,0000</td>\n",
       "      <td>116000,0000</td>\n",
       "      <td>1</td>\n",
       "      <td>14</td>\n",
       "      <td>55.752146</td>\n",
       "      <td>37.892044</td>\n",
       "      <td>01.10.2016 0:00:00</td>\n",
       "      <td>myData.biz</td>\n",
       "    </tr>\n",
       "    <tr>\n",
       "      <th>1</th>\n",
       "      <td>163038</td>\n",
       "      <td>Balashikha, micro-district of Saltykovka, nos...</td>\n",
       "      <td>133000,0000</td>\n",
       "      <td>133000,0000</td>\n",
       "      <td>133000,0000</td>\n",
       "      <td>2</td>\n",
       "      <td>25</td>\n",
       "      <td>55.752683</td>\n",
       "      <td>37.897056</td>\n",
       "      <td>01.10.2016 0:00:00</td>\n",
       "      <td>myData.biz</td>\n",
       "    </tr>\n",
       "    <tr>\n",
       "      <th>2</th>\n",
       "      <td>237779</td>\n",
       "      <td>Podolsk urban district, the village Train, 26</td>\n",
       "      <td>89000,0000</td>\n",
       "      <td>89000,0000</td>\n",
       "      <td>89000,0000</td>\n",
       "      <td>1</td>\n",
       "      <td>17</td>\n",
       "      <td>55.387024</td>\n",
       "      <td>37.538377</td>\n",
       "      <td>01.02.2017 0:00:00</td>\n",
       "      <td>myData.biz</td>\n",
       "    </tr>\n",
       "    <tr>\n",
       "      <th>3</th>\n",
       "      <td>142707</td>\n",
       "      <td>Reutov, 6A neighborhood, K2</td>\n",
       "      <td>80000,0000</td>\n",
       "      <td>88000,0000</td>\n",
       "      <td>99000,0000</td>\n",
       "      <td>17</td>\n",
       "      <td>25</td>\n",
       "      <td>55.773768</td>\n",
       "      <td>37.848987</td>\n",
       "      <td>01.12.2016 0:00:00</td>\n",
       "      <td>myData.biz</td>\n",
       "    </tr>\n",
       "    <tr>\n",
       "      <th>4</th>\n",
       "      <td>142825</td>\n",
       "      <td>Reutov, 6A neighborhood, K3</td>\n",
       "      <td>74000,0000</td>\n",
       "      <td>81000,0000</td>\n",
       "      <td>85000,0000</td>\n",
       "      <td>20</td>\n",
       "      <td>25</td>\n",
       "      <td>55.775115</td>\n",
       "      <td>37.848655</td>\n",
       "      <td>01.12.2016 0:00:00</td>\n",
       "      <td>myData.biz</td>\n",
       "    </tr>\n",
       "  </tbody>\n",
       "</table>\n",
       "</div>"
      ],
      "text/plain": [
       "       id                                          AddressEn  \\\n",
       "0  142704   Balashikha, micro-district of Saltykovka, nos...   \n",
       "1  163038   Balashikha, micro-district of Saltykovka, nos...   \n",
       "2  237779      Podolsk urban district, the village Train, 26   \n",
       "3  142707                        Reutov, 6A neighborhood, K2   \n",
       "4  142825                        Reutov, 6A neighborhood, K3   \n",
       "\n",
       "  MinPricePerSqMeter AvgPricePerSqMeter MaxPricePerSqMeter  OffersCount  \\\n",
       "0        116000,0000        116000,0000        116000,0000            1   \n",
       "1        133000,0000        133000,0000        133000,0000            2   \n",
       "2         89000,0000         89000,0000         89000,0000            1   \n",
       "3         80000,0000         88000,0000         99000,0000           17   \n",
       "4         74000,0000         81000,0000         85000,0000           20   \n",
       "\n",
       "   TotalFloors        Lat        Lon              OnDate      Source  \n",
       "0           14  55.752146  37.892044  01.10.2016 0:00:00  myData.biz  \n",
       "1           25  55.752683  37.897056  01.10.2016 0:00:00  myData.biz  \n",
       "2           17  55.387024  37.538377  01.02.2017 0:00:00  myData.biz  \n",
       "3           25  55.773768  37.848987  01.12.2016 0:00:00  myData.biz  \n",
       "4           25  55.775115  37.848655  01.12.2016 0:00:00  myData.biz  "
      ]
     },
     "execution_count": 19,
     "metadata": {},
     "output_type": "execute_result"
    }
   ],
   "source": [
    "data.head()"
   ]
  },
  {
   "cell_type": "markdown",
   "metadata": {},
   "source": [
    "Change address by leaving only neighboorhood in the cell"
   ]
  },
  {
   "cell_type": "code",
   "execution_count": 21,
   "metadata": {},
   "outputs": [],
   "source": [
    "data['AddressEn']=data['AddressEn'].apply(lambda r: str(r.split(',')[0])+','+str(r.split(',')[1]))"
   ]
  },
  {
   "cell_type": "code",
   "execution_count": 25,
   "metadata": {},
   "outputs": [],
   "source": [
    "data.rename({'AddressEn':'Neighborhood'},axis=1,inplace=True)"
   ]
  },
  {
   "cell_type": "code",
   "execution_count": 26,
   "metadata": {},
   "outputs": [
    {
     "data": {
      "text/html": [
       "<div>\n",
       "<style scoped>\n",
       "    .dataframe tbody tr th:only-of-type {\n",
       "        vertical-align: middle;\n",
       "    }\n",
       "\n",
       "    .dataframe tbody tr th {\n",
       "        vertical-align: top;\n",
       "    }\n",
       "\n",
       "    .dataframe thead th {\n",
       "        text-align: right;\n",
       "    }\n",
       "</style>\n",
       "<table border=\"1\" class=\"dataframe\">\n",
       "  <thead>\n",
       "    <tr style=\"text-align: right;\">\n",
       "      <th></th>\n",
       "      <th>id</th>\n",
       "      <th>Neighborhood</th>\n",
       "      <th>MinPricePerSqMeter</th>\n",
       "      <th>AvgPricePerSqMeter</th>\n",
       "      <th>MaxPricePerSqMeter</th>\n",
       "      <th>OffersCount</th>\n",
       "      <th>TotalFloors</th>\n",
       "      <th>Lat</th>\n",
       "      <th>Lon</th>\n",
       "      <th>OnDate</th>\n",
       "      <th>Source</th>\n",
       "    </tr>\n",
       "  </thead>\n",
       "  <tbody>\n",
       "    <tr>\n",
       "      <th>0</th>\n",
       "      <td>142704</td>\n",
       "      <td>Balashikha, micro-district of Saltykovka</td>\n",
       "      <td>116000,0000</td>\n",
       "      <td>116000,0000</td>\n",
       "      <td>116000,0000</td>\n",
       "      <td>1</td>\n",
       "      <td>14</td>\n",
       "      <td>55.752146</td>\n",
       "      <td>37.892044</td>\n",
       "      <td>01.10.2016 0:00:00</td>\n",
       "      <td>myData.biz</td>\n",
       "    </tr>\n",
       "    <tr>\n",
       "      <th>1</th>\n",
       "      <td>163038</td>\n",
       "      <td>Balashikha, micro-district of Saltykovka</td>\n",
       "      <td>133000,0000</td>\n",
       "      <td>133000,0000</td>\n",
       "      <td>133000,0000</td>\n",
       "      <td>2</td>\n",
       "      <td>25</td>\n",
       "      <td>55.752683</td>\n",
       "      <td>37.897056</td>\n",
       "      <td>01.10.2016 0:00:00</td>\n",
       "      <td>myData.biz</td>\n",
       "    </tr>\n",
       "    <tr>\n",
       "      <th>2</th>\n",
       "      <td>237779</td>\n",
       "      <td>Podolsk urban district, the village Train</td>\n",
       "      <td>89000,0000</td>\n",
       "      <td>89000,0000</td>\n",
       "      <td>89000,0000</td>\n",
       "      <td>1</td>\n",
       "      <td>17</td>\n",
       "      <td>55.387024</td>\n",
       "      <td>37.538377</td>\n",
       "      <td>01.02.2017 0:00:00</td>\n",
       "      <td>myData.biz</td>\n",
       "    </tr>\n",
       "    <tr>\n",
       "      <th>3</th>\n",
       "      <td>142707</td>\n",
       "      <td>Reutov, 6A neighborhood</td>\n",
       "      <td>80000,0000</td>\n",
       "      <td>88000,0000</td>\n",
       "      <td>99000,0000</td>\n",
       "      <td>17</td>\n",
       "      <td>25</td>\n",
       "      <td>55.773768</td>\n",
       "      <td>37.848987</td>\n",
       "      <td>01.12.2016 0:00:00</td>\n",
       "      <td>myData.biz</td>\n",
       "    </tr>\n",
       "    <tr>\n",
       "      <th>4</th>\n",
       "      <td>142825</td>\n",
       "      <td>Reutov, 6A neighborhood</td>\n",
       "      <td>74000,0000</td>\n",
       "      <td>81000,0000</td>\n",
       "      <td>85000,0000</td>\n",
       "      <td>20</td>\n",
       "      <td>25</td>\n",
       "      <td>55.775115</td>\n",
       "      <td>37.848655</td>\n",
       "      <td>01.12.2016 0:00:00</td>\n",
       "      <td>myData.biz</td>\n",
       "    </tr>\n",
       "  </tbody>\n",
       "</table>\n",
       "</div>"
      ],
      "text/plain": [
       "       id                                Neighborhood MinPricePerSqMeter  \\\n",
       "0  142704    Balashikha, micro-district of Saltykovka        116000,0000   \n",
       "1  163038    Balashikha, micro-district of Saltykovka        133000,0000   \n",
       "2  237779   Podolsk urban district, the village Train         89000,0000   \n",
       "3  142707                     Reutov, 6A neighborhood         80000,0000   \n",
       "4  142825                     Reutov, 6A neighborhood         74000,0000   \n",
       "\n",
       "  AvgPricePerSqMeter MaxPricePerSqMeter  OffersCount  TotalFloors        Lat  \\\n",
       "0        116000,0000        116000,0000            1           14  55.752146   \n",
       "1        133000,0000        133000,0000            2           25  55.752683   \n",
       "2         89000,0000         89000,0000            1           17  55.387024   \n",
       "3         88000,0000         99000,0000           17           25  55.773768   \n",
       "4         81000,0000         85000,0000           20           25  55.775115   \n",
       "\n",
       "         Lon              OnDate      Source  \n",
       "0  37.892044  01.10.2016 0:00:00  myData.biz  \n",
       "1  37.897056  01.10.2016 0:00:00  myData.biz  \n",
       "2  37.538377  01.02.2017 0:00:00  myData.biz  \n",
       "3  37.848987  01.12.2016 0:00:00  myData.biz  \n",
       "4  37.848655  01.12.2016 0:00:00  myData.biz  "
      ]
     },
     "execution_count": 26,
     "metadata": {},
     "output_type": "execute_result"
    }
   ],
   "source": [
    "data.head()"
   ]
  },
  {
   "cell_type": "code",
   "execution_count": 27,
   "metadata": {},
   "outputs": [
    {
     "data": {
      "text/plain": [
       " Reutov, Jubilee Avenue                         49\n",
       " Reutov, Komsomolskaya street                   22\n",
       " Reutov, Sovetskaya street                      19\n",
       " Reutov, street October                         18\n",
       " Reutov, nosovihinskoe highway                  16\n",
       " Reutov, Gagarin street                         11\n",
       " Reutov, Kotovsky street                         9\n",
       " Reutov, New street                              9\n",
       " Reutov, Victory street                          9\n",
       " Reutov, Ashgabat street                         8\n",
       " Reutov, street of Lenin                         7\n",
       " Reutov, South street                            7\n",
       " Reutov, St. Gagarin                             7\n",
       " Reutov, Dzerzhinsky street                      7\n",
       " Reutov, Gagarina street                         7\n",
       " Reutov, street Gagarina                         7\n",
       " Reutov, Lenin street                            6\n",
       " Reutov, street of Kalinin                       6\n",
       " Reutov, Sovetskaya str.                         6\n",
       " Reutov, Golovashkina street                     5\n",
       " Reutov, Park street                             5\n",
       " Reutov, Lesnaya street                          5\n",
       " Reutov, 6A neighborhood                         5\n",
       " Reutov, street Voytovych                        4\n",
       " Reutov, street of the Academician Chelomeya     4\n",
       " Reutov, street of Builders                      4\n",
       " Reutov, Garden travel                           4\n",
       " Reutov, Youth street                            3\n",
       " Reutov, Reutov                                  3\n",
       " Reutov, prosp. Mira                             3\n",
       " Reutov, street of Kirov                         3\n",
       " Reutov, Pobedy street                           2\n",
       " Reutov, Forest street                           2\n",
       " Balashikha, micro-district of Saltykovka        2\n",
       " Reutov, Mira Avenue                             2\n",
       " Reutov, street Dzerzhinsky                      2\n",
       " Reutov, Nekrasov's street                       2\n",
       " Reutov, street Youth                            2\n",
       " Reutov, street of the Victory                   1\n",
       " Reutov, street                                  1\n",
       " Podolsk urban district, the village Train       1\n",
       " Reutov, street New                              1\n",
       " Reutov, novogireevskaya ulitsa                  1\n",
       " Reutov, Lesnaya street 11                       1\n",
       " Reutov, Sovetskaya ulitsa                       1\n",
       " Reutov, Komsomolskaya street 32                 1\n",
       " Reutov, street Soviet                           1\n",
       " Reutov, street Nekrasova                        1\n",
       " Reutov, Mira                                    1\n",
       " Reutov, residential complex Novokosino-2        1\n",
       " Reutov, Golovashkina ulitsa                     1\n",
       "Name: Neighborhood, dtype: int64"
      ]
     },
     "execution_count": 27,
     "metadata": {},
     "output_type": "execute_result"
    }
   ],
   "source": [
    "data.Neighborhood.value_counts()"
   ]
  },
  {
   "cell_type": "markdown",
   "metadata": {},
   "source": [
    "Smaller dataframe that contains only Average prices per square meters, number of the offers and neighborhood"
   ]
  },
  {
   "cell_type": "code",
   "execution_count": 35,
   "metadata": {},
   "outputs": [
    {
     "name": "stderr",
     "output_type": "stream",
     "text": [
      "<ipython-input-35-7464ab64b49f>:3: SettingWithCopyWarning: \n",
      "A value is trying to be set on a copy of a slice from a DataFrame.\n",
      "Try using .loc[row_indexer,col_indexer] = value instead\n",
      "\n",
      "See the caveats in the documentation: https://pandas.pydata.org/pandas-docs/stable/user_guide/indexing.html#returning-a-view-versus-a-copy\n",
      "  smaller_data['AvgPricePerSqMeter']=smaller_data['AvgPricePerSqMeter'].apply(lambda x: int(x.split(',')[0]))\n"
     ]
    },
    {
     "data": {
      "text/html": [
       "<div>\n",
       "<style scoped>\n",
       "    .dataframe tbody tr th:only-of-type {\n",
       "        vertical-align: middle;\n",
       "    }\n",
       "\n",
       "    .dataframe tbody tr th {\n",
       "        vertical-align: top;\n",
       "    }\n",
       "\n",
       "    .dataframe thead th {\n",
       "        text-align: right;\n",
       "    }\n",
       "</style>\n",
       "<table border=\"1\" class=\"dataframe\">\n",
       "  <thead>\n",
       "    <tr style=\"text-align: right;\">\n",
       "      <th></th>\n",
       "      <th>Neighborhood</th>\n",
       "      <th>AvgPricePerSqMeter</th>\n",
       "      <th>TotalFloors</th>\n",
       "      <th>OffersCount</th>\n",
       "    </tr>\n",
       "  </thead>\n",
       "  <tbody>\n",
       "    <tr>\n",
       "      <th>0</th>\n",
       "      <td>Balashikha, micro-district of Saltykovka</td>\n",
       "      <td>116000</td>\n",
       "      <td>14</td>\n",
       "      <td>1</td>\n",
       "    </tr>\n",
       "    <tr>\n",
       "      <th>1</th>\n",
       "      <td>Balashikha, micro-district of Saltykovka</td>\n",
       "      <td>133000</td>\n",
       "      <td>25</td>\n",
       "      <td>2</td>\n",
       "    </tr>\n",
       "    <tr>\n",
       "      <th>2</th>\n",
       "      <td>Podolsk urban district, the village Train</td>\n",
       "      <td>89000</td>\n",
       "      <td>17</td>\n",
       "      <td>1</td>\n",
       "    </tr>\n",
       "    <tr>\n",
       "      <th>3</th>\n",
       "      <td>Reutov, 6A neighborhood</td>\n",
       "      <td>88000</td>\n",
       "      <td>25</td>\n",
       "      <td>17</td>\n",
       "    </tr>\n",
       "    <tr>\n",
       "      <th>4</th>\n",
       "      <td>Reutov, 6A neighborhood</td>\n",
       "      <td>81000</td>\n",
       "      <td>25</td>\n",
       "      <td>20</td>\n",
       "    </tr>\n",
       "  </tbody>\n",
       "</table>\n",
       "</div>"
      ],
      "text/plain": [
       "                                 Neighborhood  AvgPricePerSqMeter  \\\n",
       "0    Balashikha, micro-district of Saltykovka              116000   \n",
       "1    Balashikha, micro-district of Saltykovka              133000   \n",
       "2   Podolsk urban district, the village Train               89000   \n",
       "3                     Reutov, 6A neighborhood               88000   \n",
       "4                     Reutov, 6A neighborhood               81000   \n",
       "\n",
       "   TotalFloors  OffersCount  \n",
       "0           14            1  \n",
       "1           25            2  \n",
       "2           17            1  \n",
       "3           25           17  \n",
       "4           25           20  "
      ]
     },
     "execution_count": 35,
     "metadata": {},
     "output_type": "execute_result"
    }
   ],
   "source": [
    "columns=['Neighborhood','AvgPricePerSqMeter','TotalFloors','OffersCount']\n",
    "smaller_data=data[columns]\n",
    "smaller_data['AvgPricePerSqMeter']=smaller_data['AvgPricePerSqMeter'].apply(lambda x: int(x.split(',')[0]))\n",
    "smaller_data.head()"
   ]
  },
  {
   "cell_type": "code",
   "execution_count": 49,
   "metadata": {},
   "outputs": [
    {
     "data": {
      "text/plain": [
       "2488"
      ]
     },
     "execution_count": 49,
     "metadata": {},
     "output_type": "execute_result"
    }
   ],
   "source": [
    "sum(smaller_data['OffersCount'])"
   ]
  },
  {
   "cell_type": "code",
   "execution_count": 51,
   "metadata": {},
   "outputs": [
    {
     "data": {
      "text/plain": [
       "Neighborhood           Balashikha, micro-district of Saltykovka\n",
       "AvgPricePerSqMeter                                       116000\n",
       "TotalFloors                                                  14\n",
       "Name: 0, dtype: object"
      ]
     },
     "execution_count": 51,
     "metadata": {},
     "output_type": "execute_result"
    }
   ],
   "source": [
    "smaller_data.iloc[0,:3]"
   ]
  },
  {
   "cell_type": "code",
   "execution_count": 54,
   "metadata": {},
   "outputs": [],
   "source": [
    "new_data=[]\n",
    "for raw in range(len(smaller_data)):\n",
    "    offer_count=smaller_data.loc[raw,'OffersCount']\n",
    "    while offer_count>0:\n",
    "        new_data.append(smaller_data.iloc[raw,:3])\n",
    "        offer_count=offer_count-1\n",
    "new_df=pd.DataFrame(new_data)"
   ]
  },
  {
   "cell_type": "code",
   "execution_count": 58,
   "metadata": {
    "scrolled": true
   },
   "outputs": [
    {
     "data": {
      "text/plain": [
       "Neighborhood          object\n",
       "AvgPricePerSqMeter     int64\n",
       "TotalFloors            int64\n",
       "dtype: object"
      ]
     },
     "execution_count": 58,
     "metadata": {},
     "output_type": "execute_result"
    }
   ],
   "source": [
    "new_df.dtypes"
   ]
  },
  {
   "cell_type": "markdown",
   "metadata": {},
   "source": [
    "Describing the Data\n",
    "\n",
    "AvgPricePerSqMeter and TotalFloors are Features\n",
    "\n",
    "Neighborhood is Target variable"
   ]
  },
  {
   "cell_type": "code",
   "execution_count": 59,
   "metadata": {
    "scrolled": true
   },
   "outputs": [
    {
     "data": {
      "text/html": [
       "<div>\n",
       "<style scoped>\n",
       "    .dataframe tbody tr th:only-of-type {\n",
       "        vertical-align: middle;\n",
       "    }\n",
       "\n",
       "    .dataframe tbody tr th {\n",
       "        vertical-align: top;\n",
       "    }\n",
       "\n",
       "    .dataframe thead th {\n",
       "        text-align: right;\n",
       "    }\n",
       "</style>\n",
       "<table border=\"1\" class=\"dataframe\">\n",
       "  <thead>\n",
       "    <tr style=\"text-align: right;\">\n",
       "      <th></th>\n",
       "      <th>AvgPricePerSqMeter</th>\n",
       "      <th>TotalFloors</th>\n",
       "    </tr>\n",
       "  </thead>\n",
       "  <tbody>\n",
       "    <tr>\n",
       "      <th>count</th>\n",
       "      <td>2488.000000</td>\n",
       "      <td>2488.000000</td>\n",
       "    </tr>\n",
       "    <tr>\n",
       "      <th>mean</th>\n",
       "      <td>121788.585209</td>\n",
       "      <td>19.084003</td>\n",
       "    </tr>\n",
       "    <tr>\n",
       "      <th>std</th>\n",
       "      <td>23661.997952</td>\n",
       "      <td>6.877042</td>\n",
       "    </tr>\n",
       "    <tr>\n",
       "      <th>min</th>\n",
       "      <td>74000.000000</td>\n",
       "      <td>3.000000</td>\n",
       "    </tr>\n",
       "    <tr>\n",
       "      <th>25%</th>\n",
       "      <td>109000.000000</td>\n",
       "      <td>14.000000</td>\n",
       "    </tr>\n",
       "  </tbody>\n",
       "</table>\n",
       "</div>"
      ],
      "text/plain": [
       "       AvgPricePerSqMeter  TotalFloors\n",
       "count         2488.000000  2488.000000\n",
       "mean        121788.585209    19.084003\n",
       "std          23661.997952     6.877042\n",
       "min          74000.000000     3.000000\n",
       "25%         109000.000000    14.000000"
      ]
     },
     "execution_count": 59,
     "metadata": {},
     "output_type": "execute_result"
    }
   ],
   "source": [
    "stats_data = new_df.describe()\n",
    "stats_data.head()"
   ]
  },
  {
   "cell_type": "markdown",
   "metadata": {},
   "source": [
    "Groupby as mean on 'Neighborhood' \n",
    "\n",
    "If there is 'NaN', fill it with a zero"
   ]
  },
  {
   "cell_type": "code",
   "execution_count": 104,
   "metadata": {},
   "outputs": [
    {
     "data": {
      "text/html": [
       "<div>\n",
       "<style scoped>\n",
       "    .dataframe tbody tr th:only-of-type {\n",
       "        vertical-align: middle;\n",
       "    }\n",
       "\n",
       "    .dataframe tbody tr th {\n",
       "        vertical-align: top;\n",
       "    }\n",
       "\n",
       "    .dataframe thead tr th {\n",
       "        text-align: left;\n",
       "    }\n",
       "\n",
       "    .dataframe thead tr:last-of-type th {\n",
       "        text-align: right;\n",
       "    }\n",
       "</style>\n",
       "<table border=\"1\" class=\"dataframe\">\n",
       "  <thead>\n",
       "    <tr>\n",
       "      <th></th>\n",
       "      <th colspan=\"2\" halign=\"left\">AvgPricePerSqMeter</th>\n",
       "      <th colspan=\"2\" halign=\"left\">TotalFloors</th>\n",
       "    </tr>\n",
       "    <tr>\n",
       "      <th></th>\n",
       "      <th>mean</th>\n",
       "      <th>std</th>\n",
       "      <th>mean</th>\n",
       "      <th>std</th>\n",
       "    </tr>\n",
       "    <tr>\n",
       "      <th>Neighborhood</th>\n",
       "      <th></th>\n",
       "      <th></th>\n",
       "      <th></th>\n",
       "      <th></th>\n",
       "    </tr>\n",
       "  </thead>\n",
       "  <tbody>\n",
       "    <tr>\n",
       "      <th>Balashikha, micro-district of Saltykovka</th>\n",
       "      <td>127333.333333</td>\n",
       "      <td>9814.954576</td>\n",
       "      <td>21.333333</td>\n",
       "      <td>6.350853</td>\n",
       "    </tr>\n",
       "    <tr>\n",
       "      <th>Podolsk urban district, the village Train</th>\n",
       "      <td>89000.000000</td>\n",
       "      <td>0.000000</td>\n",
       "      <td>17.000000</td>\n",
       "      <td>0.000000</td>\n",
       "    </tr>\n",
       "    <tr>\n",
       "      <th>Reutov, 6A neighborhood</th>\n",
       "      <td>78982.300885</td>\n",
       "      <td>4582.541210</td>\n",
       "      <td>25.000000</td>\n",
       "      <td>0.000000</td>\n",
       "    </tr>\n",
       "    <tr>\n",
       "      <th>Reutov, Ashgabat street</th>\n",
       "      <td>128645.161290</td>\n",
       "      <td>10898.160050</td>\n",
       "      <td>15.387097</td>\n",
       "      <td>6.064528</td>\n",
       "    </tr>\n",
       "    <tr>\n",
       "      <th>Reutov, Dzerzhinsky street</th>\n",
       "      <td>123217.391304</td>\n",
       "      <td>12720.622204</td>\n",
       "      <td>15.304348</td>\n",
       "      <td>2.898821</td>\n",
       "    </tr>\n",
       "    <tr>\n",
       "      <th>Reutov, Forest street</th>\n",
       "      <td>146000.000000</td>\n",
       "      <td>6928.203230</td>\n",
       "      <td>23.666667</td>\n",
       "      <td>4.618802</td>\n",
       "    </tr>\n",
       "    <tr>\n",
       "      <th>Reutov, Gagarin street</th>\n",
       "      <td>125294.117647</td>\n",
       "      <td>12662.350329</td>\n",
       "      <td>13.000000</td>\n",
       "      <td>7.336088</td>\n",
       "    </tr>\n",
       "  </tbody>\n",
       "</table>\n",
       "</div>"
      ],
      "text/plain": [
       "                                           AvgPricePerSqMeter                \\\n",
       "                                                         mean           std   \n",
       "Neighborhood                                                                  \n",
       " Balashikha, micro-district of Saltykovka       127333.333333   9814.954576   \n",
       " Podolsk urban district, the village Train       89000.000000      0.000000   \n",
       " Reutov, 6A neighborhood                         78982.300885   4582.541210   \n",
       " Reutov, Ashgabat street                        128645.161290  10898.160050   \n",
       " Reutov, Dzerzhinsky street                     123217.391304  12720.622204   \n",
       " Reutov, Forest street                          146000.000000   6928.203230   \n",
       " Reutov, Gagarin street                         125294.117647  12662.350329   \n",
       "\n",
       "                                           TotalFloors            \n",
       "                                                  mean       std  \n",
       "Neighborhood                                                      \n",
       " Balashikha, micro-district of Saltykovka    21.333333  6.350853  \n",
       " Podolsk urban district, the village Train   17.000000  0.000000  \n",
       " Reutov, 6A neighborhood                     25.000000  0.000000  \n",
       " Reutov, Ashgabat street                     15.387097  6.064528  \n",
       " Reutov, Dzerzhinsky street                  15.304348  2.898821  \n",
       " Reutov, Forest street                       23.666667  4.618802  \n",
       " Reutov, Gagarin street                      13.000000  7.336088  "
      ]
     },
     "execution_count": 104,
     "metadata": {},
     "output_type": "execute_result"
    }
   ],
   "source": [
    "grouped_df=new_df.groupby('Neighborhood').agg([np.mean,np.std])\n",
    "grouped_df=grouped_df.fillna(0)\n",
    "grouped_df.head(7)"
   ]
  },
  {
   "cell_type": "code",
   "execution_count": 102,
   "metadata": {},
   "outputs": [
    {
     "data": {
      "text/plain": [
       "array([' Balashikha, micro-district of Saltykovka',\n",
       "       ' Podolsk urban district, the village Train',\n",
       "       ' Reutov, 6A neighborhood', ' Reutov, Ashgabat street',\n",
       "       ' Reutov, Dzerzhinsky street', ' Reutov, Forest street',\n",
       "       ' Reutov, Gagarin street', ' Reutov, Gagarina street',\n",
       "       ' Reutov, Garden travel', ' Reutov, Golovashkina street',\n",
       "       ' Reutov, Golovashkina ulitsa', ' Reutov, Jubilee Avenue',\n",
       "       ' Reutov, Komsomolskaya street',\n",
       "       ' Reutov, Komsomolskaya street 32', ' Reutov, Kotovsky street',\n",
       "       ' Reutov, Lenin street', ' Reutov, Lesnaya street',\n",
       "       ' Reutov, Lesnaya street 11', ' Reutov, Mira',\n",
       "       ' Reutov, Mira Avenue', \" Reutov, Nekrasov's street\",\n",
       "       ' Reutov, New street', ' Reutov, Park street',\n",
       "       ' Reutov, Pobedy street', ' Reutov, Reutov',\n",
       "       ' Reutov, South street', ' Reutov, Sovetskaya str.',\n",
       "       ' Reutov, Sovetskaya street', ' Reutov, Sovetskaya ulitsa',\n",
       "       ' Reutov, St. Gagarin', ' Reutov, Victory street',\n",
       "       ' Reutov, Youth street', ' Reutov, nosovihinskoe highway',\n",
       "       ' Reutov, novogireevskaya ulitsa', ' Reutov, prosp. Mira',\n",
       "       ' Reutov, residential complex Novokosino-2', ' Reutov, street',\n",
       "       ' Reutov, street Dzerzhinsky', ' Reutov, street Gagarina',\n",
       "       ' Reutov, street Nekrasova', ' Reutov, street New',\n",
       "       ' Reutov, street October', ' Reutov, street Soviet',\n",
       "       ' Reutov, street Voytovych', ' Reutov, street Youth',\n",
       "       ' Reutov, street of Builders', ' Reutov, street of Kalinin',\n",
       "       ' Reutov, street of Kirov', ' Reutov, street of Lenin',\n",
       "       ' Reutov, street of the Academician Chelomeya',\n",
       "       ' Reutov, street of the Victory'], dtype=object)"
      ]
     },
     "execution_count": 102,
     "metadata": {},
     "output_type": "execute_result"
    }
   ],
   "source": [
    "grouped_df=grouped_df.reset_index()\n",
    "grouped_df['Neighborhood'].unique()"
   ]
  },
  {
   "cell_type": "code",
   "execution_count": 125,
   "metadata": {},
   "outputs": [
    {
     "data": {
      "image/png": "[encoded data removed]",
      "text/plain": [
       "<Figure size 432x288 with 1 Axes>"
      ]
     },
     "metadata": {
      "needs_background": "light"
     },
     "output_type": "display_data"
    }
   ],
   "source": [
    "ax = plt.axes()\n",
    "ax.hist(new_df['AvgPricePerSqMeter'], bins=25);\n",
    "\n",
    "ax.set(xlabel='Average price per square meter (rub)', \n",
    "       ylabel='Frequency',\n",
    "       title='Distribution of Price per m^2 in Reutov, Moscow region');\n",
    "plt.savefig('Histogram_reutov.jpg')"
   ]
  },
  {
   "cell_type": "code",
   "execution_count": 127,
   "metadata": {},
   "outputs": [
    {
     "data": {
      "image/png": "[encoded data removed]",
      "text/plain": [
       "<Figure size 432x288 with 1 Axes>"
      ]
     },
     "metadata": {
      "needs_background": "light"
     },
     "output_type": "display_data"
    }
   ],
   "source": [
    "ax = plt.axes()\n",
    "ax.boxplot(new_df['AvgPricePerSqMeter']);\n",
    "ax.set_ylim([50000,250000])\n",
    "ax.set(xlabel='Average price per square meter (rub)', \n",
    "       ylabel='Frequency',\n",
    "       title='Distribution of Price per m^2 in Reutov, Moscow region')\n",
    "plt.savefig('Boxplot_reutov.jpg')"
   ]
  },
  {
   "cell_type": "markdown",
   "metadata": {},
   "source": [
    "There are two outliers in the data (price/m^2 above 185,000 rub)"
   ]
  },
  {
   "cell_type": "code",
   "execution_count": 88,
   "metadata": {
    "scrolled": true
   },
   "outputs": [
    {
     "data": {
      "text/html": [
       "<div>\n",
       "<style scoped>\n",
       "    .dataframe tbody tr th:only-of-type {\n",
       "        vertical-align: middle;\n",
       "    }\n",
       "\n",
       "    .dataframe tbody tr th {\n",
       "        vertical-align: top;\n",
       "    }\n",
       "\n",
       "    .dataframe thead th {\n",
       "        text-align: right;\n",
       "    }\n",
       "</style>\n",
       "<table border=\"1\" class=\"dataframe\">\n",
       "  <thead>\n",
       "    <tr style=\"text-align: right;\">\n",
       "      <th></th>\n",
       "      <th>Neighborhood</th>\n",
       "      <th>AvgPricePerSqMeter</th>\n",
       "      <th>TotalFloors</th>\n",
       "    </tr>\n",
       "  </thead>\n",
       "  <tbody>\n",
       "    <tr>\n",
       "      <th>111</th>\n",
       "      <td>Reutov, Komsomolskaya street</td>\n",
       "      <td>190000</td>\n",
       "      <td>5</td>\n",
       "    </tr>\n",
       "    <tr>\n",
       "      <th>267</th>\n",
       "      <td>Reutov, street of Kalinin</td>\n",
       "      <td>210000</td>\n",
       "      <td>5</td>\n",
       "    </tr>\n",
       "  </tbody>\n",
       "</table>\n",
       "</div>"
      ],
      "text/plain": [
       "                      Neighborhood  AvgPricePerSqMeter  TotalFloors\n",
       "111   Reutov, Komsomolskaya street              190000            5\n",
       "267      Reutov, street of Kalinin              210000            5"
      ]
     },
     "execution_count": 88,
     "metadata": {},
     "output_type": "execute_result"
    }
   ],
   "source": [
    "new_df[new_df['AvgPricePerSqMeter']>185000]"
   ]
  },
  {
   "cell_type": "code",
   "execution_count": 128,
   "metadata": {
    "scrolled": true
   },
   "outputs": [
    {
     "data": {
      "image/png": "[encoded data removed]",
      "text/plain": [
       "<Figure size 360x360 with 6 Axes>"
      ]
     },
     "metadata": {
      "needs_background": "light"
     },
     "output_type": "display_data"
    }
   ],
   "source": [
    "sns.pairplot(new_df);\n",
    "plt.savefig('Pairplot_reutov.jpg')"
   ]
  },
  {
   "cell_type": "markdown",
   "metadata": {},
   "source": [
    "It's clear that there is no correlation between the AvgPricePerSqMeter and Number of floors"
   ]
  },
  {
   "cell_type": "markdown",
   "metadata": {},
   "source": [
    "# Now I will make hypotheses"
   ]
  },
  {
   "cell_type": "markdown",
   "metadata": {},
   "source": [
    "1) Null: Average price per m^2 in a house of more than 10 floors is above 100,000 rub\n",
    "\n",
    "Alternative: The aforementioned is not correct"
   ]
  },
  {
   "cell_type": "markdown",
   "metadata": {},
   "source": [
    "2) Null: IF price is 83,500 rub it is not a price for an appartment in 'Reutov,Gagarin Street'\n",
    "\n",
    "Alternative: The aforementioned is not correct"
   ]
  },
  {
   "cell_type": "markdown",
   "metadata": {},
   "source": [
    "3) Null: IF number of floors is 25, the price for an appartment is below 170,000 rub\n",
    "\n",
    "Alternative: The aforementioned is not correct"
   ]
  },
  {
   "cell_type": "markdown",
   "metadata": {},
   "source": [
    "__I will check hypothesis 2__"
   ]
  },
  {
   "cell_type": "code",
   "execution_count": 110,
   "metadata": {},
   "outputs": [
    {
     "data": {
      "text/html": [
       "<div>\n",
       "<style scoped>\n",
       "    .dataframe tbody tr th:only-of-type {\n",
       "        vertical-align: middle;\n",
       "    }\n",
       "\n",
       "    .dataframe tbody tr th {\n",
       "        vertical-align: top;\n",
       "    }\n",
       "\n",
       "    .dataframe thead th {\n",
       "        text-align: right;\n",
       "    }\n",
       "</style>\n",
       "<table border=\"1\" class=\"dataframe\">\n",
       "  <thead>\n",
       "    <tr style=\"text-align: right;\">\n",
       "      <th></th>\n",
       "      <th>Neighborhood</th>\n",
       "      <th>AvgPricePerSqMeter</th>\n",
       "      <th>TotalFloors</th>\n",
       "    </tr>\n",
       "  </thead>\n",
       "  <tbody>\n",
       "    <tr>\n",
       "      <th>36</th>\n",
       "      <td>Reutov, Gagarina street</td>\n",
       "      <td>114000</td>\n",
       "      <td>9</td>\n",
       "    </tr>\n",
       "    <tr>\n",
       "      <th>36</th>\n",
       "      <td>Reutov, Gagarina street</td>\n",
       "      <td>114000</td>\n",
       "      <td>9</td>\n",
       "    </tr>\n",
       "    <tr>\n",
       "      <th>36</th>\n",
       "      <td>Reutov, Gagarina street</td>\n",
       "      <td>114000</td>\n",
       "      <td>9</td>\n",
       "    </tr>\n",
       "    <tr>\n",
       "      <th>36</th>\n",
       "      <td>Reutov, Gagarina street</td>\n",
       "      <td>114000</td>\n",
       "      <td>9</td>\n",
       "    </tr>\n",
       "    <tr>\n",
       "      <th>36</th>\n",
       "      <td>Reutov, Gagarina street</td>\n",
       "      <td>114000</td>\n",
       "      <td>9</td>\n",
       "    </tr>\n",
       "    <tr>\n",
       "      <th>37</th>\n",
       "      <td>Reutov, Gagarina street</td>\n",
       "      <td>88000</td>\n",
       "      <td>9</td>\n",
       "    </tr>\n",
       "    <tr>\n",
       "      <th>37</th>\n",
       "      <td>Reutov, Gagarina street</td>\n",
       "      <td>88000</td>\n",
       "      <td>9</td>\n",
       "    </tr>\n",
       "    <tr>\n",
       "      <th>38</th>\n",
       "      <td>Reutov, Gagarina street</td>\n",
       "      <td>84000</td>\n",
       "      <td>25</td>\n",
       "    </tr>\n",
       "    <tr>\n",
       "      <th>38</th>\n",
       "      <td>Reutov, Gagarina street</td>\n",
       "      <td>84000</td>\n",
       "      <td>25</td>\n",
       "    </tr>\n",
       "    <tr>\n",
       "      <th>38</th>\n",
       "      <td>Reutov, Gagarina street</td>\n",
       "      <td>84000</td>\n",
       "      <td>25</td>\n",
       "    </tr>\n",
       "    <tr>\n",
       "      <th>38</th>\n",
       "      <td>Reutov, Gagarina street</td>\n",
       "      <td>84000</td>\n",
       "      <td>25</td>\n",
       "    </tr>\n",
       "    <tr>\n",
       "      <th>39</th>\n",
       "      <td>Reutov, Gagarina street</td>\n",
       "      <td>107000</td>\n",
       "      <td>4</td>\n",
       "    </tr>\n",
       "    <tr>\n",
       "      <th>40</th>\n",
       "      <td>Reutov, Gagarina street</td>\n",
       "      <td>92000</td>\n",
       "      <td>9</td>\n",
       "    </tr>\n",
       "    <tr>\n",
       "      <th>40</th>\n",
       "      <td>Reutov, Gagarina street</td>\n",
       "      <td>92000</td>\n",
       "      <td>9</td>\n",
       "    </tr>\n",
       "    <tr>\n",
       "      <th>40</th>\n",
       "      <td>Reutov, Gagarina street</td>\n",
       "      <td>92000</td>\n",
       "      <td>9</td>\n",
       "    </tr>\n",
       "    <tr>\n",
       "      <th>40</th>\n",
       "      <td>Reutov, Gagarina street</td>\n",
       "      <td>92000</td>\n",
       "      <td>9</td>\n",
       "    </tr>\n",
       "    <tr>\n",
       "      <th>40</th>\n",
       "      <td>Reutov, Gagarina street</td>\n",
       "      <td>92000</td>\n",
       "      <td>9</td>\n",
       "    </tr>\n",
       "    <tr>\n",
       "      <th>40</th>\n",
       "      <td>Reutov, Gagarina street</td>\n",
       "      <td>92000</td>\n",
       "      <td>9</td>\n",
       "    </tr>\n",
       "    <tr>\n",
       "      <th>41</th>\n",
       "      <td>Reutov, Gagarina street</td>\n",
       "      <td>144000</td>\n",
       "      <td>25</td>\n",
       "    </tr>\n",
       "    <tr>\n",
       "      <th>41</th>\n",
       "      <td>Reutov, Gagarina street</td>\n",
       "      <td>144000</td>\n",
       "      <td>25</td>\n",
       "    </tr>\n",
       "    <tr>\n",
       "      <th>41</th>\n",
       "      <td>Reutov, Gagarina street</td>\n",
       "      <td>144000</td>\n",
       "      <td>25</td>\n",
       "    </tr>\n",
       "    <tr>\n",
       "      <th>41</th>\n",
       "      <td>Reutov, Gagarina street</td>\n",
       "      <td>144000</td>\n",
       "      <td>25</td>\n",
       "    </tr>\n",
       "    <tr>\n",
       "      <th>41</th>\n",
       "      <td>Reutov, Gagarina street</td>\n",
       "      <td>144000</td>\n",
       "      <td>25</td>\n",
       "    </tr>\n",
       "    <tr>\n",
       "      <th>41</th>\n",
       "      <td>Reutov, Gagarina street</td>\n",
       "      <td>144000</td>\n",
       "      <td>25</td>\n",
       "    </tr>\n",
       "    <tr>\n",
       "      <th>41</th>\n",
       "      <td>Reutov, Gagarina street</td>\n",
       "      <td>144000</td>\n",
       "      <td>25</td>\n",
       "    </tr>\n",
       "    <tr>\n",
       "      <th>41</th>\n",
       "      <td>Reutov, Gagarina street</td>\n",
       "      <td>144000</td>\n",
       "      <td>25</td>\n",
       "    </tr>\n",
       "    <tr>\n",
       "      <th>41</th>\n",
       "      <td>Reutov, Gagarina street</td>\n",
       "      <td>144000</td>\n",
       "      <td>25</td>\n",
       "    </tr>\n",
       "    <tr>\n",
       "      <th>41</th>\n",
       "      <td>Reutov, Gagarina street</td>\n",
       "      <td>144000</td>\n",
       "      <td>25</td>\n",
       "    </tr>\n",
       "    <tr>\n",
       "      <th>41</th>\n",
       "      <td>Reutov, Gagarina street</td>\n",
       "      <td>144000</td>\n",
       "      <td>25</td>\n",
       "    </tr>\n",
       "    <tr>\n",
       "      <th>41</th>\n",
       "      <td>Reutov, Gagarina street</td>\n",
       "      <td>144000</td>\n",
       "      <td>25</td>\n",
       "    </tr>\n",
       "    <tr>\n",
       "      <th>42</th>\n",
       "      <td>Reutov, Gagarina street</td>\n",
       "      <td>83000</td>\n",
       "      <td>6</td>\n",
       "    </tr>\n",
       "    <tr>\n",
       "      <th>42</th>\n",
       "      <td>Reutov, Gagarina street</td>\n",
       "      <td>83000</td>\n",
       "      <td>6</td>\n",
       "    </tr>\n",
       "  </tbody>\n",
       "</table>\n",
       "</div>"
      ],
      "text/plain": [
       "                Neighborhood  AvgPricePerSqMeter  TotalFloors\n",
       "36   Reutov, Gagarina street              114000            9\n",
       "36   Reutov, Gagarina street              114000            9\n",
       "36   Reutov, Gagarina street              114000            9\n",
       "36   Reutov, Gagarina street              114000            9\n",
       "36   Reutov, Gagarina street              114000            9\n",
       "37   Reutov, Gagarina street               88000            9\n",
       "37   Reutov, Gagarina street               88000            9\n",
       "38   Reutov, Gagarina street               84000           25\n",
       "38   Reutov, Gagarina street               84000           25\n",
       "38   Reutov, Gagarina street               84000           25\n",
       "38   Reutov, Gagarina street               84000           25\n",
       "39   Reutov, Gagarina street              107000            4\n",
       "40   Reutov, Gagarina street               92000            9\n",
       "40   Reutov, Gagarina street               92000            9\n",
       "40   Reutov, Gagarina street               92000            9\n",
       "40   Reutov, Gagarina street               92000            9\n",
       "40   Reutov, Gagarina street               92000            9\n",
       "40   Reutov, Gagarina street               92000            9\n",
       "41   Reutov, Gagarina street              144000           25\n",
       "41   Reutov, Gagarina street              144000           25\n",
       "41   Reutov, Gagarina street              144000           25\n",
       "41   Reutov, Gagarina street              144000           25\n",
       "41   Reutov, Gagarina street              144000           25\n",
       "41   Reutov, Gagarina street              144000           25\n",
       "41   Reutov, Gagarina street              144000           25\n",
       "41   Reutov, Gagarina street              144000           25\n",
       "41   Reutov, Gagarina street              144000           25\n",
       "41   Reutov, Gagarina street              144000           25\n",
       "41   Reutov, Gagarina street              144000           25\n",
       "41   Reutov, Gagarina street              144000           25\n",
       "42   Reutov, Gagarina street               83000            6\n",
       "42   Reutov, Gagarina street               83000            6"
      ]
     },
     "execution_count": 110,
     "metadata": {},
     "output_type": "execute_result"
    }
   ],
   "source": [
    "gagarin_df=new_df[new_df['Neighborhood']==' Reutov, Gagarina street']\n",
    "gagarin_df"
   ]
  },
  {
   "cell_type": "code",
   "execution_count": 121,
   "metadata": {},
   "outputs": [
    {
     "name": "stdout",
     "output_type": "stream",
     "text": [
      "Probability that appartment of price 83000 per m^2\n",
      " is located at Reutov, Gagatina street = 6.25%\n"
     ]
    }
   ],
   "source": [
    "prob1=1-len(gagarin_df[gagarin_df['AvgPricePerSqMeter']>83000])/len(gagarin_df)\n",
    "print('Probability that appartment of price 83000 per m^2\\n is located at Reutov, Gagatina street = {}%'.format(prob1*100))"
   ]
  },
  {
   "cell_type": "code",
   "execution_count": 122,
   "metadata": {},
   "outputs": [
    {
     "name": "stdout",
     "output_type": "stream",
     "text": [
      "Probability that appartment of price 83000 per m^2\n",
      " is located at Reutov = 5.9887459807073995%\n"
     ]
    }
   ],
   "source": [
    "prob2=1-len(new_df[new_df['AvgPricePerSqMeter']>83000])/len(new_df)\n",
    "print('Probability that appartment of price 83000 per m^2\\n is located at Reutov = {}%'.format(prob2*100))"
   ]
  },
  {
   "cell_type": "code",
   "execution_count": null,
   "metadata": {},
   "outputs": [],
   "source": []
  }
 ],
 "metadata": {
  "kernelspec": {
   "display_name": "Python 3",
   "language": "python",
   "name": "python3"
  },
  "language_info": {
   "codemirror_mode": {
    "name": "ipython",
    "version": 3
   },
   "file_extension": ".py",
   "mimetype": "text/x-python",
   "name": "python",
   "nbconvert_exporter": "python",
   "pygments_lexer": "ipython3",
   "version": "3.8.5"
  }
 },
 "nbformat": 4,
 "nbformat_minor": 4
}
