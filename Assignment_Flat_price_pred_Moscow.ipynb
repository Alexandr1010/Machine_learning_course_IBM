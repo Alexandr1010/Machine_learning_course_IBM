{
 "cells": [
  {
   "cell_type": "markdown",
   "metadata": {},
   "source": [
    "Import libraries"
   ]
  },
  {
   "cell_type": "code",
   "execution_count": 1,
   "metadata": {},
   "outputs": [],
   "source": [
    "import numpy as np\n",
    "import pandas as pd\n",
    "import matplotlib.pyplot as plt\n",
    "\n",
    "from sklearn.preprocessing import StandardScaler, MinMaxScaler, PolynomialFeatures\n",
    "from sklearn.model_selection import KFold, cross_val_predict\n",
    "from sklearn.linear_model import LinearRegression, Lasso, Ridge\n",
    "from sklearn.metrics import r2_score, mean_squared_error\n",
    "from sklearn.pipeline import Pipeline\n",
    "\n",
    "from scipy.stats import boxcox\n",
    "from scipy.special import inv_boxcox\n",
    "from sklearn.model_selection import train_test_split\n",
    "import seaborn as sns\n",
    "sns.set_style('ticks')\n",
    "sns.set_context('talk')\n",
    "sns.set_palette('dark')"
   ]
  },
  {
   "cell_type": "code",
   "execution_count": 2,
   "metadata": {},
   "outputs": [],
   "source": [
    "filepath='flats_moscow.csv'\n",
    "data=pd.read_csv(filepath,sep=',')"
   ]
  },
  {
   "cell_type": "code",
   "execution_count": 3,
   "metadata": {},
   "outputs": [
    {
     "data": {
      "text/html": [
       "<div>\n",
       "<style scoped>\n",
       "    .dataframe tbody tr th:only-of-type {\n",
       "        vertical-align: middle;\n",
       "    }\n",
       "\n",
       "    .dataframe tbody tr th {\n",
       "        vertical-align: top;\n",
       "    }\n",
       "\n",
       "    .dataframe thead th {\n",
       "        text-align: right;\n",
       "    }\n",
       "</style>\n",
       "<table border=\"1\" class=\"dataframe\">\n",
       "  <thead>\n",
       "    <tr style=\"text-align: right;\">\n",
       "      <th></th>\n",
       "      <th>Unnamed: 0</th>\n",
       "      <th>price</th>\n",
       "      <th>totsp</th>\n",
       "      <th>livesp</th>\n",
       "      <th>kitsp</th>\n",
       "      <th>dist</th>\n",
       "      <th>metrdist</th>\n",
       "      <th>walk</th>\n",
       "      <th>brick</th>\n",
       "      <th>floor</th>\n",
       "      <th>code</th>\n",
       "    </tr>\n",
       "  </thead>\n",
       "  <tbody>\n",
       "    <tr>\n",
       "      <th>0</th>\n",
       "      <td>1</td>\n",
       "      <td>81</td>\n",
       "      <td>58</td>\n",
       "      <td>40</td>\n",
       "      <td>6.0</td>\n",
       "      <td>12.5</td>\n",
       "      <td>7</td>\n",
       "      <td>1</td>\n",
       "      <td>1</td>\n",
       "      <td>1</td>\n",
       "      <td>3</td>\n",
       "    </tr>\n",
       "    <tr>\n",
       "      <th>1</th>\n",
       "      <td>2</td>\n",
       "      <td>75</td>\n",
       "      <td>44</td>\n",
       "      <td>28</td>\n",
       "      <td>6.0</td>\n",
       "      <td>13.5</td>\n",
       "      <td>7</td>\n",
       "      <td>1</td>\n",
       "      <td>0</td>\n",
       "      <td>1</td>\n",
       "      <td>6</td>\n",
       "    </tr>\n",
       "    <tr>\n",
       "      <th>2</th>\n",
       "      <td>3</td>\n",
       "      <td>128</td>\n",
       "      <td>70</td>\n",
       "      <td>42</td>\n",
       "      <td>6.0</td>\n",
       "      <td>14.5</td>\n",
       "      <td>3</td>\n",
       "      <td>1</td>\n",
       "      <td>1</td>\n",
       "      <td>1</td>\n",
       "      <td>3</td>\n",
       "    </tr>\n",
       "    <tr>\n",
       "      <th>3</th>\n",
       "      <td>4</td>\n",
       "      <td>95</td>\n",
       "      <td>61</td>\n",
       "      <td>37</td>\n",
       "      <td>6.0</td>\n",
       "      <td>13.5</td>\n",
       "      <td>7</td>\n",
       "      <td>1</td>\n",
       "      <td>0</td>\n",
       "      <td>1</td>\n",
       "      <td>1</td>\n",
       "    </tr>\n",
       "    <tr>\n",
       "      <th>4</th>\n",
       "      <td>5</td>\n",
       "      <td>330</td>\n",
       "      <td>104</td>\n",
       "      <td>60</td>\n",
       "      <td>11.0</td>\n",
       "      <td>10.5</td>\n",
       "      <td>7</td>\n",
       "      <td>0</td>\n",
       "      <td>1</td>\n",
       "      <td>1</td>\n",
       "      <td>3</td>\n",
       "    </tr>\n",
       "  </tbody>\n",
       "</table>\n",
       "</div>"
      ],
      "text/plain": [
       "   Unnamed: 0  price  totsp  livesp  kitsp  dist  metrdist  walk  brick  \\\n",
       "0           1     81     58      40    6.0  12.5         7     1      1   \n",
       "1           2     75     44      28    6.0  13.5         7     1      0   \n",
       "2           3    128     70      42    6.0  14.5         3     1      1   \n",
       "3           4     95     61      37    6.0  13.5         7     1      0   \n",
       "4           5    330    104      60   11.0  10.5         7     0      1   \n",
       "\n",
       "   floor  code  \n",
       "0      1     3  \n",
       "1      1     6  \n",
       "2      1     3  \n",
       "3      1     1  \n",
       "4      1     3  "
      ]
     },
     "execution_count": 3,
     "metadata": {},
     "output_type": "execute_result"
    }
   ],
   "source": [
    "data.head()"
   ]
  },
  {
   "cell_type": "markdown",
   "metadata": {},
   "source": [
    "Attribute target variable and features"
   ]
  },
  {
   "cell_type": "code",
   "execution_count": 4,
   "metadata": {},
   "outputs": [],
   "source": [
    "X=data.drop(['Unnamed: 0','price','code'],axis=1)\n",
    "y=data[['price']]"
   ]
  },
  {
   "cell_type": "code",
   "execution_count": 5,
   "metadata": {},
   "outputs": [
    {
     "data": {
      "text/html": [
       "<div>\n",
       "<style scoped>\n",
       "    .dataframe tbody tr th:only-of-type {\n",
       "        vertical-align: middle;\n",
       "    }\n",
       "\n",
       "    .dataframe tbody tr th {\n",
       "        vertical-align: top;\n",
       "    }\n",
       "\n",
       "    .dataframe thead th {\n",
       "        text-align: right;\n",
       "    }\n",
       "</style>\n",
       "<table border=\"1\" class=\"dataframe\">\n",
       "  <thead>\n",
       "    <tr style=\"text-align: right;\">\n",
       "      <th></th>\n",
       "      <th>price</th>\n",
       "    </tr>\n",
       "  </thead>\n",
       "  <tbody>\n",
       "    <tr>\n",
       "      <th>0</th>\n",
       "      <td>81</td>\n",
       "    </tr>\n",
       "    <tr>\n",
       "      <th>1</th>\n",
       "      <td>75</td>\n",
       "    </tr>\n",
       "    <tr>\n",
       "      <th>2</th>\n",
       "      <td>128</td>\n",
       "    </tr>\n",
       "    <tr>\n",
       "      <th>3</th>\n",
       "      <td>95</td>\n",
       "    </tr>\n",
       "    <tr>\n",
       "      <th>4</th>\n",
       "      <td>330</td>\n",
       "    </tr>\n",
       "  </tbody>\n",
       "</table>\n",
       "</div>"
      ],
      "text/plain": [
       "   price\n",
       "0     81\n",
       "1     75\n",
       "2    128\n",
       "3     95\n",
       "4    330"
      ]
     },
     "execution_count": 5,
     "metadata": {},
     "output_type": "execute_result"
    }
   ],
   "source": [
    "y.head()"
   ]
  },
  {
   "cell_type": "code",
   "execution_count": 6,
   "metadata": {},
   "outputs": [
    {
     "data": {
      "text/html": [
       "<div>\n",
       "<style scoped>\n",
       "    .dataframe tbody tr th:only-of-type {\n",
       "        vertical-align: middle;\n",
       "    }\n",
       "\n",
       "    .dataframe tbody tr th {\n",
       "        vertical-align: top;\n",
       "    }\n",
       "\n",
       "    .dataframe thead th {\n",
       "        text-align: right;\n",
       "    }\n",
       "</style>\n",
       "<table border=\"1\" class=\"dataframe\">\n",
       "  <thead>\n",
       "    <tr style=\"text-align: right;\">\n",
       "      <th></th>\n",
       "      <th>Price in 1000 USD</th>\n",
       "    </tr>\n",
       "  </thead>\n",
       "  <tbody>\n",
       "    <tr>\n",
       "      <th>0</th>\n",
       "      <td>81</td>\n",
       "    </tr>\n",
       "    <tr>\n",
       "      <th>1</th>\n",
       "      <td>75</td>\n",
       "    </tr>\n",
       "    <tr>\n",
       "      <th>2</th>\n",
       "      <td>128</td>\n",
       "    </tr>\n",
       "    <tr>\n",
       "      <th>3</th>\n",
       "      <td>95</td>\n",
       "    </tr>\n",
       "    <tr>\n",
       "      <th>4</th>\n",
       "      <td>330</td>\n",
       "    </tr>\n",
       "    <tr>\n",
       "      <th>...</th>\n",
       "      <td>...</td>\n",
       "    </tr>\n",
       "    <tr>\n",
       "      <th>2035</th>\n",
       "      <td>110</td>\n",
       "    </tr>\n",
       "    <tr>\n",
       "      <th>2036</th>\n",
       "      <td>95</td>\n",
       "    </tr>\n",
       "    <tr>\n",
       "      <th>2037</th>\n",
       "      <td>95</td>\n",
       "    </tr>\n",
       "    <tr>\n",
       "      <th>2038</th>\n",
       "      <td>129</td>\n",
       "    </tr>\n",
       "    <tr>\n",
       "      <th>2039</th>\n",
       "      <td>103</td>\n",
       "    </tr>\n",
       "  </tbody>\n",
       "</table>\n",
       "<p>2040 rows × 1 columns</p>\n",
       "</div>"
      ],
      "text/plain": [
       "      Price in 1000 USD\n",
       "0                    81\n",
       "1                    75\n",
       "2                   128\n",
       "3                    95\n",
       "4                   330\n",
       "...                 ...\n",
       "2035                110\n",
       "2036                 95\n",
       "2037                 95\n",
       "2038                129\n",
       "2039                103\n",
       "\n",
       "[2040 rows x 1 columns]"
      ]
     },
     "execution_count": 6,
     "metadata": {},
     "output_type": "execute_result"
    }
   ],
   "source": [
    "y.rename({'price':'Price in 1000 USD'},axis=1)"
   ]
  },
  {
   "cell_type": "markdown",
   "metadata": {},
   "source": [
    "Now, I would like to implement Cross-Validation and tune hyperparameters for different regression models"
   ]
  },
  {
   "cell_type": "code",
   "execution_count": 7,
   "metadata": {},
   "outputs": [
    {
     "data": {
      "text/plain": [
       "array([0.001     , 0.0026827 , 0.00719686, 0.01930698, 0.05179475,\n",
       "       0.13894955, 0.37275937, 1.        ])"
      ]
     },
     "execution_count": 7,
     "metadata": {},
     "output_type": "execute_result"
    }
   ],
   "source": [
    "alphas = np.geomspace(1e-3, 1e0, num=8)\n",
    "alphas"
   ]
  },
  {
   "cell_type": "code",
   "execution_count": 8,
   "metadata": {},
   "outputs": [],
   "source": [
    "kf=KFold(shuffle=True,random_state=72018, n_splits=4)\n",
    "lr=LinearRegression()\n",
    "s=MinMaxScaler()\n",
    "pf2=PolynomialFeatures(degree=2)\n",
    "pf3=PolynomialFeatures(degree=3)\n",
    "#X_pf=pf.fit_transform(X)"
   ]
  },
  {
   "cell_type": "code",
   "execution_count": 9,
   "metadata": {},
   "outputs": [],
   "source": [
    "scores = []\n",
    "coefs = []\n",
    "for alpha in alphas:\n",
    "    las = Lasso(alpha=alpha, max_iter=100000)\n",
    "    estimator=Pipeline([('scaler',s), ('polynom_transform',pf2),('lasso',las)])\n",
    "\n",
    "    predictions = cross_val_predict(estimator, X, y, cv = kf)\n",
    "    \n",
    "    score = r2_score(y, predictions)\n",
    "\n",
    "    scores.append(score)"
   ]
  },
  {
   "cell_type": "code",
   "execution_count": 10,
   "metadata": {},
   "outputs": [
    {
     "data": {
      "image/png": "[encoded data removed]",
      "text/plain": [
       "<Figure size 432x288 with 1 Axes>"
      ]
     },
     "metadata": {},
     "output_type": "display_data"
    }
   ],
   "source": [
    "plt.semilogx(alphas,scores,marker='o')\n",
    "plt.title('Lasso regression R^2 for degree=2')\n",
    "plt.ylabel('$R^2$')\n",
    "plt.xlabel('$\\\\alpha$')\n",
    "plt.savefig('Lasso_optimization.jpg')"
   ]
  },
  {
   "cell_type": "code",
   "execution_count": 11,
   "metadata": {},
   "outputs": [],
   "source": [
    "#i,score =max(scores)\n",
    "(max_v,max_i) = max((score,i) for i,score in enumerate(scores))\n",
    "best_alpha=alphas[max_i]"
   ]
  },
  {
   "cell_type": "code",
   "execution_count": 12,
   "metadata": {},
   "outputs": [
    {
     "name": "stdout",
     "output_type": "stream",
     "text": [
      "Best R^2 score found with lasso regression is 0.7400322573273883\n",
      "Best alpha value in this case is 0.0193\n"
     ]
    }
   ],
   "source": [
    "# Then release it into the wild .....\n",
    "best_estimator = Pipeline([\n",
    "                    (\"scaler\", s),\n",
    "                    (\"make_higher_degree\", PolynomialFeatures(degree=2)),\n",
    "                    (\"lasso_regression\", Lasso(alpha=best_alpha))])\n",
    "\n",
    "best_estimator.fit(X, y)\n",
    "print('Best R^2 score found with lasso regression is',best_estimator.score(X, y))\n",
    "print('Best alpha value in this case is',round(best_alpha,4))"
   ]
  },
  {
   "cell_type": "code",
   "execution_count": 13,
   "metadata": {},
   "outputs": [],
   "source": [
    "scores = []\n",
    "coefs = []\n",
    "alphas=np.geomspace(0.001,1,20)\n",
    "for alpha in alphas:\n",
    "    r = Ridge(alpha=alpha, max_iter=100000)\n",
    "    estimator=Pipeline([('scaler',s), ('polynom_transform',pf2),('ridge',r)])\n",
    "\n",
    "    predictions = cross_val_predict(estimator, X, y, cv = kf)\n",
    "    \n",
    "    score = r2_score(y, predictions)\n",
    "\n",
    "    scores.append(score)"
   ]
  },
  {
   "cell_type": "code",
   "execution_count": 14,
   "metadata": {
    "scrolled": true
   },
   "outputs": [
    {
     "data": {
      "image/png": "[encoded data removed]",
      "text/plain": [
       "<Figure size 432x288 with 1 Axes>"
      ]
     },
     "metadata": {},
     "output_type": "display_data"
    }
   ],
   "source": [
    "plt.semilogx(alphas,scores,marker='o')\n",
    "plt.title('Ridge regression R^2 for degree=2')\n",
    "plt.ylabel('$R^2$')\n",
    "plt.xlabel('$\\\\alpha$')\n",
    "plt.savefig('Ridge_regression_optimization.jpg')"
   ]
  },
  {
   "cell_type": "code",
   "execution_count": 15,
   "metadata": {},
   "outputs": [
    {
     "name": "stdout",
     "output_type": "stream",
     "text": [
      "Best_alpha_for_Ridge is 0.1623776739188721\n"
     ]
    }
   ],
   "source": [
    "(max_v,max_i) = max((score,i) for i,score in enumerate(scores))\n",
    "best_alpha=alphas[max_i]\n",
    "print('Best_alpha_for_Ridge is {}'.format(best_alpha))"
   ]
  },
  {
   "cell_type": "markdown",
   "metadata": {},
   "source": [
    "### Now I learn how to find best Lasso hyperparameters, I will use\n",
    "### linear regression, polynomial regression with degree 2, polynomial regression with degree 3, and lasso with degree 2, ridge with degree 2"
   ]
  },
  {
   "cell_type": "code",
   "execution_count": 16,
   "metadata": {},
   "outputs": [
    {
     "data": {
      "text/plain": [
       "array([[<AxesSubplot:title={'center':'price'}>]], dtype=object)"
      ]
     },
     "execution_count": 16,
     "metadata": {},
     "output_type": "execute_result"
    },
    {
     "data": {
      "image/png": "[encoded data removed]",
      "text/plain": [
       "<Figure size 432x288 with 1 Axes>"
      ]
     },
     "metadata": {},
     "output_type": "display_data"
    }
   ],
   "source": [
    "y.hist()"
   ]
  },
  {
   "cell_type": "markdown",
   "metadata": {},
   "source": [
    "I will transform the price collumn with boxcox"
   ]
  },
  {
   "cell_type": "markdown",
   "metadata": {},
   "source": [
    "## 1) Linear regression study"
   ]
  },
  {
   "cell_type": "code",
   "execution_count": 17,
   "metadata": {},
   "outputs": [
    {
     "name": "stdout",
     "output_type": "stream",
     "text": [
      "Test Linear Regression R^2 is 0.378642915380613\n",
      "Test Mean_squared_error is 1017.5217924580708\n"
     ]
    }
   ],
   "source": [
    "X_train, X_test, y_train, y_test=train_test_split(X, y, test_size=0.3, random_state=42)\n",
    "X_ss_train=s.fit_transform(X_train)\n",
    "lr.fit(X_ss_train,y_train)\n",
    "y_fit=lr.predict(X_ss_train)\n",
    "X_ss_test=s.transform(X_test)\n",
    "y_pred=lr.predict(X_ss_test)\n",
    "#print('Train Linear Regression R^2 is',r2_score(y_fit,y_train))\n",
    "print('Test Linear Regression R^2 is',r2_score(y_pred,y_test))\n",
    "#print('Train Mean_squared_error is',mean_squared_error(y_fit,y_train))\n",
    "print('Test Mean_squared_error is',mean_squared_error(y_pred,y_test))"
   ]
  },
  {
   "cell_type": "markdown",
   "metadata": {},
   "source": [
    "This model is far from being perfect"
   ]
  },
  {
   "cell_type": "markdown",
   "metadata": {},
   "source": [
    "See the boxcox transformation"
   ]
  },
  {
   "cell_type": "code",
   "execution_count": 18,
   "metadata": {},
   "outputs": [
    {
     "data": {
      "text/plain": [
       "(array([  2.,   0.,   1.,  49., 231., 356., 369., 283., 106.,  31.]),\n",
       " array([0.99920481, 1.00120209, 1.00319937, 1.00519665, 1.00719393,\n",
       "        1.00919121, 1.01118849, 1.01318577, 1.01518304, 1.01718032,\n",
       "        1.0191776 ]),\n",
       " <BarContainer object of 10 artists>)"
      ]
     },
     "execution_count": 18,
     "metadata": {},
     "output_type": "execute_result"
    },
    {
     "data": {
      "image/png": "[encoded data removed]",
      "text/plain": [
       "<Figure size 432x288 with 1 Axes>"
      ]
     },
     "metadata": {},
     "output_type": "display_data"
    }
   ],
   "source": [
    "#I check the error with boxcox\n",
    "bc1=boxcox(y_train.iloc[:,0])\n",
    "y_train_bc=bc1[0]\n",
    "lam=bc1[1]\n",
    "plt.hist(y_train_bc)"
   ]
  },
  {
   "cell_type": "code",
   "execution_count": 19,
   "metadata": {},
   "outputs": [],
   "source": [
    "'''lr2=LinearRegression()\n",
    "X_ss_train=s.fit_transform(X_train)\n",
    "lr2.fit(X_ss_train,y_train_bc)\n",
    "X_ss_test=s.transform(X_test)\n",
    "y_pred_bc=lr2.predict(X_ss_test)\n",
    "#print(inv_boxcox(y_pred_bc,lam))\n",
    "#print(y_test)\n",
    "y_pred_1=inv_boxcox(y_pred_bc,lam)\n",
    "y_pred_1 = np.where(np.isnan(y_pred_1), 0, y_pred_1) \n",
    "print('Test Linear Regression R^2 [boxcox] is',r2_score(y_pred_1,y_test))\n",
    "print('Test Mean_squared_error [boxcox] is',mean_squared_error(y_pred_1,y_test))\n",
    "print(y_pred_1)'''\n",
    "pass"
   ]
  },
  {
   "cell_type": "code",
   "execution_count": 20,
   "metadata": {},
   "outputs": [],
   "source": [
    "lr_r2=r2_score(y_pred,y_test)\n",
    "lr_mse=mean_squared_error(y_pred,y_test)"
   ]
  },
  {
   "cell_type": "code",
   "execution_count": 21,
   "metadata": {},
   "outputs": [],
   "source": [
    "params={'Model':[],'R^2':[],'Mean Sq Error':[]}"
   ]
  },
  {
   "cell_type": "code",
   "execution_count": 22,
   "metadata": {},
   "outputs": [],
   "source": [
    "params['Model'].append('Linear Regression')\n",
    "params['R^2'].append(lr_r2)\n",
    "params['Mean Sq Error'].append(lr_mse)"
   ]
  },
  {
   "cell_type": "markdown",
   "metadata": {},
   "source": [
    "## 2) Polynomial features (degree=2)"
   ]
  },
  {
   "cell_type": "code",
   "execution_count": 23,
   "metadata": {},
   "outputs": [],
   "source": [
    "def polynom_fit_predict(X,y,degree=2,rand_state=42):\n",
    "    pf=PolynomialFeatures(degree=degree)\n",
    "    X_pf=pf.fit_transform(X)\n",
    "    X_train, X_test, y_train, y_test=train_test_split(X_pf, y, test_size=0.3, random_state=rand_state)\n",
    "    X_ss_train=s.fit_transform(X_train)\n",
    "    lr.fit(X_ss_train,y_train)\n",
    "    X_ss_test=s.transform(X_test)\n",
    "    y_pred=lr.predict(X_ss_test)\n",
    "    print('Test Polynom deg={} Regression\\n R^2 is'.format(degree),round(r2_score(y_pred,y_test),3))\n",
    "    print('Test Polynom deg={} Regression\\n Mean_squared_error is'.format(degree),mean_squared_error(y_pred,y_test))\n",
    "    return (r2_score(y_pred,y_test),mean_squared_error(y_pred,y_test))"
   ]
  },
  {
   "cell_type": "code",
   "execution_count": 24,
   "metadata": {
    "scrolled": true
   },
   "outputs": [
    {
     "name": "stdout",
     "output_type": "stream",
     "text": [
      "Test Polynom deg=2 Regression\n",
      " R^2 is 0.561\n",
      "Test Polynom deg=2 Regression\n",
      " Mean_squared_error is 811.1030832075853\n"
     ]
    }
   ],
   "source": [
    "poly2_params=polynom_fit_predict(X,y,degree=2)"
   ]
  },
  {
   "cell_type": "markdown",
   "metadata": {},
   "source": [
    "R^2 gets much better, we reduce bias"
   ]
  },
  {
   "cell_type": "code",
   "execution_count": 25,
   "metadata": {},
   "outputs": [],
   "source": [
    "params['Model'].append('Poly 2')\n",
    "params['R^2'].append(poly2_params[0])\n",
    "params['Mean Sq Error'].append(poly2_params[1])"
   ]
  },
  {
   "cell_type": "markdown",
   "metadata": {},
   "source": [
    "## 3) Polynomial features (degree=3)"
   ]
  },
  {
   "cell_type": "code",
   "execution_count": 26,
   "metadata": {
    "scrolled": false
   },
   "outputs": [
    {
     "name": "stdout",
     "output_type": "stream",
     "text": [
      "Test Polynom deg=3 Regression\n",
      " R^2 is 0.301\n",
      "Test Polynom deg=3 Regression\n",
      " Mean_squared_error is 1971.2249632018484\n"
     ]
    }
   ],
   "source": [
    "poly3_params=polynom_fit_predict(X,y,degree=3)"
   ]
  },
  {
   "cell_type": "markdown",
   "metadata": {},
   "source": [
    "R^2 becomes too high, we increse variance substantially"
   ]
  },
  {
   "cell_type": "code",
   "execution_count": 27,
   "metadata": {},
   "outputs": [],
   "source": [
    "params['Model'].append('Poly 3')\n",
    "params['R^2'].append(poly3_params[0])\n",
    "params['Mean Sq Error'].append(poly3_params[1])"
   ]
  },
  {
   "cell_type": "markdown",
   "metadata": {},
   "source": [
    "## 4)Lasso (degree=2)"
   ]
  },
  {
   "cell_type": "code",
   "execution_count": 28,
   "metadata": {},
   "outputs": [
    {
     "name": "stdout",
     "output_type": "stream",
     "text": [
      "Test Polynom deg=2 + Lasso Regression\n",
      " R^2 is 0.726\n",
      "Test Polynom deg=2 + Lasso Regression\n",
      " Mean_squared_error is 811.0\n"
     ]
    }
   ],
   "source": [
    "from sklearn.linear_model import LassoCV\n",
    "pf=PolynomialFeatures(degree=2)\n",
    "X_pf=pf.fit_transform(X)\n",
    "\n",
    "X_train, X_test, y_train, y_test=train_test_split(X_pf, y.iloc[:,0], test_size=0.3, random_state=42)\n",
    "alphas2 = np.geomspace(0.002, 2, 20)\n",
    "\n",
    "lassoCV = LassoCV(alphas=alphas2,\n",
    "                  max_iter=5e4,\n",
    "                  cv=4).fit(X_train, y_train)\n",
    "y_lasso_pred=lassoCV.predict(X_test)\n",
    "lassoCV_r2 = r2_score(y_test,y_lasso_pred)\n",
    "lassoCV_mse = mean_squared_error(y_test,y_lasso_pred)\n",
    "print('Test Polynom deg=2 + Lasso Regression\\n R^2 is', round(lassoCV_r2,3))\n",
    "print('Test Polynom deg=2 + Lasso Regression\\n Mean_squared_error is',round(lassoCV_mse,0))"
   ]
  },
  {
   "cell_type": "code",
   "execution_count": 29,
   "metadata": {
    "scrolled": true
   },
   "outputs": [
    {
     "name": "stdout",
     "output_type": "stream",
     "text": [
      "Alpha coefficient for Lasso regression is 0.05273301797460717.\n"
     ]
    }
   ],
   "source": [
    "print('Alpha coefficient for Lasso regression is {}.'.format(lassoCV.alpha_))"
   ]
  },
  {
   "cell_type": "code",
   "execution_count": 30,
   "metadata": {},
   "outputs": [],
   "source": [
    "params['Model'].append('Poly2+Lasso')\n",
    "params['R^2'].append(lassoCV_r2)\n",
    "params['Mean Sq Error'].append(lassoCV_mse)"
   ]
  },
  {
   "cell_type": "markdown",
   "metadata": {},
   "source": [
    "## 5) Ridge (degree=2)"
   ]
  },
  {
   "cell_type": "code",
   "execution_count": 31,
   "metadata": {},
   "outputs": [
    {
     "name": "stdout",
     "output_type": "stream",
     "text": [
      "Test Polynom deg=2 + Ridge Regression\n",
      " R^2 is 0.727\n",
      "Test Polynom deg=2 + Ridge Regression\n",
      " Mean_squared_error is 810.0\n",
      "Alpha coefficient for Ridge regression is 1.0.\n"
     ]
    }
   ],
   "source": [
    "from sklearn.linear_model import RidgeCV\n",
    "alphas3=np.geomspace(0.001,1,20)\n",
    "rCV = RidgeCV(alphas=alphas3,\n",
    "                  cv=4).fit(X_train, y_train)\n",
    "y_ridge_pred=rCV.predict(X_test)\n",
    "rCV_r2 = r2_score(y_test,y_ridge_pred)\n",
    "rCV_mse = mean_squared_error(y_test,y_ridge_pred)\n",
    "print('Test Polynom deg=2 + Ridge Regression\\n R^2 is', round(rCV_r2,3))\n",
    "print('Test Polynom deg=2 + Ridge Regression\\n Mean_squared_error is',round(rCV_mse,0))\n",
    "print('Alpha coefficient for Ridge regression is {}.'.format(rCV.alpha_))"
   ]
  },
  {
   "cell_type": "code",
   "execution_count": 32,
   "metadata": {},
   "outputs": [],
   "source": [
    "params['Model'].append('Poly2+Ridge')\n",
    "params['R^2'].append(rCV_r2)\n",
    "params['Mean Sq Error'].append(rCV_mse)"
   ]
  },
  {
   "cell_type": "code",
   "execution_count": 33,
   "metadata": {},
   "outputs": [],
   "source": [
    "Model_accuracies=pd.DataFrame(params)"
   ]
  },
  {
   "cell_type": "code",
   "execution_count": 34,
   "metadata": {},
   "outputs": [
    {
     "data": {
      "text/html": [
       "<div>\n",
       "<style scoped>\n",
       "    .dataframe tbody tr th:only-of-type {\n",
       "        vertical-align: middle;\n",
       "    }\n",
       "\n",
       "    .dataframe tbody tr th {\n",
       "        vertical-align: top;\n",
       "    }\n",
       "\n",
       "    .dataframe thead th {\n",
       "        text-align: right;\n",
       "    }\n",
       "</style>\n",
       "<table border=\"1\" class=\"dataframe\">\n",
       "  <thead>\n",
       "    <tr style=\"text-align: right;\">\n",
       "      <th></th>\n",
       "      <th>R^2</th>\n",
       "      <th>Mean Sq Error</th>\n",
       "    </tr>\n",
       "    <tr>\n",
       "      <th>Model</th>\n",
       "      <th></th>\n",
       "      <th></th>\n",
       "    </tr>\n",
       "  </thead>\n",
       "  <tbody>\n",
       "    <tr>\n",
       "      <th>Linear Regression</th>\n",
       "      <td>0.378643</td>\n",
       "      <td>1017.521792</td>\n",
       "    </tr>\n",
       "    <tr>\n",
       "      <th>Poly 2</th>\n",
       "      <td>0.560966</td>\n",
       "      <td>811.103083</td>\n",
       "    </tr>\n",
       "    <tr>\n",
       "      <th>Poly 3</th>\n",
       "      <td>0.301289</td>\n",
       "      <td>1971.224963</td>\n",
       "    </tr>\n",
       "    <tr>\n",
       "      <th>Poly2+Lasso</th>\n",
       "      <td>0.726387</td>\n",
       "      <td>811.333751</td>\n",
       "    </tr>\n",
       "    <tr>\n",
       "      <th>Poly2+Ridge</th>\n",
       "      <td>0.726969</td>\n",
       "      <td>809.606983</td>\n",
       "    </tr>\n",
       "  </tbody>\n",
       "</table>\n",
       "</div>"
      ],
      "text/plain": [
       "                        R^2  Mean Sq Error\n",
       "Model                                     \n",
       "Linear Regression  0.378643    1017.521792\n",
       "Poly 2             0.560966     811.103083\n",
       "Poly 3             0.301289    1971.224963\n",
       "Poly2+Lasso        0.726387     811.333751\n",
       "Poly2+Ridge        0.726969     809.606983"
      ]
     },
     "execution_count": 34,
     "metadata": {},
     "output_type": "execute_result"
    }
   ],
   "source": [
    "Model_accuracies.set_index('Model')"
   ]
  },
  {
   "cell_type": "markdown",
   "metadata": {},
   "source": [
    "Finally, the analysis is finished.\n",
    "\n",
    "I found that Ridge model performs the best.\n",
    "I will plot Ridge predicted test values versus real test values"
   ]
  },
  {
   "cell_type": "code",
   "execution_count": 65,
   "metadata": {},
   "outputs": [],
   "source": [
    "def make_plot(y_test,y_pred,model):\n",
    "    sns.set_style('ticks')\n",
    "    sns.set_context('talk')\n",
    "    sns.set_palette('bright')\n",
    "\n",
    "    ax = plt.axes()\n",
    "    ax.set_xlim([0,600])\n",
    "    ax.set_ylim([0,600])\n",
    "    ax.plot(y_test, y_pred, ls='', marker='o')\n",
    "    ax.set(title=model, xlabel='Real prices (1000 $)', ylabel='Predicted prices (1000 $)')"
   ]
  },
  {
   "cell_type": "code",
   "execution_count": 66,
   "metadata": {},
   "outputs": [
    {
     "data": {
      "image/png": "[encoded data removed]",
      "text/plain": [
       "<Figure size 432x288 with 1 Axes>"
      ]
     },
     "metadata": {},
     "output_type": "display_data"
    }
   ],
   "source": [
    "make_plot(y_test,y_ridge_pred,'Ridge regression')"
   ]
  },
  {
   "cell_type": "code",
   "execution_count": 37,
   "metadata": {},
   "outputs": [
    {
     "data": {
      "text/plain": [
       "['1',\n",
       " 'totsp',\n",
       " 'livesp',\n",
       " 'kitsp',\n",
       " 'dist',\n",
       " 'metrdist',\n",
       " 'walk',\n",
       " 'brick',\n",
       " 'floor',\n",
       " 'totsp^2',\n",
       " 'totsp livesp',\n",
       " 'totsp kitsp',\n",
       " 'totsp dist',\n",
       " 'totsp metrdist',\n",
       " 'totsp walk',\n",
       " 'totsp brick',\n",
       " 'totsp floor',\n",
       " 'livesp^2',\n",
       " 'livesp kitsp',\n",
       " 'livesp dist',\n",
       " 'livesp metrdist',\n",
       " 'livesp walk',\n",
       " 'livesp brick',\n",
       " 'livesp floor',\n",
       " 'kitsp^2',\n",
       " 'kitsp dist',\n",
       " 'kitsp metrdist',\n",
       " 'kitsp walk',\n",
       " 'kitsp brick',\n",
       " 'kitsp floor',\n",
       " 'dist^2',\n",
       " 'dist metrdist',\n",
       " 'dist walk',\n",
       " 'dist brick',\n",
       " 'dist floor',\n",
       " 'metrdist^2',\n",
       " 'metrdist walk',\n",
       " 'metrdist brick',\n",
       " 'metrdist floor',\n",
       " 'walk^2',\n",
       " 'walk brick',\n",
       " 'walk floor',\n",
       " 'brick^2',\n",
       " 'brick floor',\n",
       " 'floor^2']"
      ]
     },
     "execution_count": 37,
     "metadata": {},
     "output_type": "execute_result"
    }
   ],
   "source": [
    "pf.get_feature_names(X.columns)"
   ]
  },
  {
   "cell_type": "code",
   "execution_count": 70,
   "metadata": {},
   "outputs": [],
   "source": [
    "\n",
    "df_importances=pd.DataFrame(zip(pf.get_feature_names(X.columns), rCV.coef_)).sort_values(by=1)\n",
    "df_importances.rename({0:'Poly features',1:'Coefficient'},axis=1)\n",
    "df_importances.head().to_excel('Most_negative_parameters.xlsx')\n",
    "df_importances.tail().to_excel('Most positive parameters.xlsx')"
   ]
  },
  {
   "cell_type": "markdown",
   "metadata": {},
   "source": [
    "### Just I will play around\n",
    "Check how I predict the first value"
   ]
  },
  {
   "cell_type": "code",
   "execution_count": 39,
   "metadata": {},
   "outputs": [
    {
     "data": {
      "text/html": [
       "<div>\n",
       "<style scoped>\n",
       "    .dataframe tbody tr th:only-of-type {\n",
       "        vertical-align: middle;\n",
       "    }\n",
       "\n",
       "    .dataframe tbody tr th {\n",
       "        vertical-align: top;\n",
       "    }\n",
       "\n",
       "    .dataframe thead th {\n",
       "        text-align: right;\n",
       "    }\n",
       "</style>\n",
       "<table border=\"1\" class=\"dataframe\">\n",
       "  <thead>\n",
       "    <tr style=\"text-align: right;\">\n",
       "      <th></th>\n",
       "      <th>totsp</th>\n",
       "      <th>livesp</th>\n",
       "      <th>kitsp</th>\n",
       "      <th>dist</th>\n",
       "      <th>metrdist</th>\n",
       "      <th>walk</th>\n",
       "      <th>brick</th>\n",
       "      <th>floor</th>\n",
       "    </tr>\n",
       "  </thead>\n",
       "  <tbody>\n",
       "    <tr>\n",
       "      <th>0</th>\n",
       "      <td>58</td>\n",
       "      <td>40</td>\n",
       "      <td>6.0</td>\n",
       "      <td>12.5</td>\n",
       "      <td>7</td>\n",
       "      <td>1</td>\n",
       "      <td>1</td>\n",
       "      <td>1</td>\n",
       "    </tr>\n",
       "  </tbody>\n",
       "</table>\n",
       "</div>"
      ],
      "text/plain": [
       "   totsp  livesp  kitsp  dist  metrdist  walk  brick  floor\n",
       "0     58      40    6.0  12.5         7     1      1      1"
      ]
     },
     "execution_count": 39,
     "metadata": {},
     "output_type": "execute_result"
    }
   ],
   "source": [
    "X.loc[[0]]"
   ]
  },
  {
   "cell_type": "code",
   "execution_count": 40,
   "metadata": {},
   "outputs": [
    {
     "data": {
      "text/html": [
       "<div>\n",
       "<style scoped>\n",
       "    .dataframe tbody tr th:only-of-type {\n",
       "        vertical-align: middle;\n",
       "    }\n",
       "\n",
       "    .dataframe tbody tr th {\n",
       "        vertical-align: top;\n",
       "    }\n",
       "\n",
       "    .dataframe thead th {\n",
       "        text-align: right;\n",
       "    }\n",
       "</style>\n",
       "<table border=\"1\" class=\"dataframe\">\n",
       "  <thead>\n",
       "    <tr style=\"text-align: right;\">\n",
       "      <th></th>\n",
       "      <th>price</th>\n",
       "    </tr>\n",
       "  </thead>\n",
       "  <tbody>\n",
       "    <tr>\n",
       "      <th>0</th>\n",
       "      <td>81</td>\n",
       "    </tr>\n",
       "  </tbody>\n",
       "</table>\n",
       "</div>"
      ],
      "text/plain": [
       "   price\n",
       "0     81"
      ]
     },
     "execution_count": 40,
     "metadata": {},
     "output_type": "execute_result"
    }
   ],
   "source": [
    "y.loc[[0]]"
   ]
  },
  {
   "cell_type": "code",
   "execution_count": 41,
   "metadata": {},
   "outputs": [],
   "source": [
    "X_pf_1=pf.transform(X.loc[[0]])"
   ]
  },
  {
   "cell_type": "code",
   "execution_count": 42,
   "metadata": {
    "scrolled": true
   },
   "outputs": [
    {
     "data": {
      "text/plain": [
       "array([104.63987747])"
      ]
     },
     "execution_count": 42,
     "metadata": {},
     "output_type": "execute_result"
    }
   ],
   "source": [
    "y_ridge_1=rCV.predict(X_pf_1)\n",
    "y_ridge_1"
   ]
  },
  {
   "cell_type": "markdown",
   "metadata": {},
   "source": [
    "Now I will make my input to predict price"
   ]
  },
  {
   "cell_type": "code",
   "execution_count": 43,
   "metadata": {},
   "outputs": [
    {
     "data": {
      "text/html": [
       "<div>\n",
       "<style scoped>\n",
       "    .dataframe tbody tr th:only-of-type {\n",
       "        vertical-align: middle;\n",
       "    }\n",
       "\n",
       "    .dataframe tbody tr th {\n",
       "        vertical-align: top;\n",
       "    }\n",
       "\n",
       "    .dataframe thead th {\n",
       "        text-align: right;\n",
       "    }\n",
       "</style>\n",
       "<table border=\"1\" class=\"dataframe\">\n",
       "  <thead>\n",
       "    <tr style=\"text-align: right;\">\n",
       "      <th></th>\n",
       "      <th>0</th>\n",
       "      <th>1</th>\n",
       "      <th>2</th>\n",
       "      <th>3</th>\n",
       "      <th>4</th>\n",
       "      <th>5</th>\n",
       "      <th>6</th>\n",
       "      <th>7</th>\n",
       "    </tr>\n",
       "  </thead>\n",
       "  <tbody>\n",
       "    <tr>\n",
       "      <th>0</th>\n",
       "      <td>75</td>\n",
       "      <td>15</td>\n",
       "      <td>6</td>\n",
       "      <td>10</td>\n",
       "      <td>10</td>\n",
       "      <td>0</td>\n",
       "      <td>0</td>\n",
       "      <td>1</td>\n",
       "    </tr>\n",
       "  </tbody>\n",
       "</table>\n",
       "</div>"
      ],
      "text/plain": [
       "    0   1  2   3   4  5  6  7\n",
       "0  75  15  6  10  10  0  0  1"
      ]
     },
     "execution_count": 43,
     "metadata": {},
     "output_type": "execute_result"
    }
   ],
   "source": [
    "my_x_values=pd.DataFrame([75, 15, 6, 10, 10, 0, 0, 1]).T\n",
    "my_x_values"
   ]
  },
  {
   "cell_type": "code",
   "execution_count": 44,
   "metadata": {},
   "outputs": [
    {
     "data": {
      "text/plain": [
       "array([201.55191756])"
      ]
     },
     "execution_count": 44,
     "metadata": {},
     "output_type": "execute_result"
    }
   ],
   "source": [
    "#Predict price from my own input values\n",
    "X_pf_2=pf.transform(my_x_values)\n",
    "y_ridge_2=rCV.predict(X_pf_2)\n",
    "y_ridge_2"
   ]
  },
  {
   "cell_type": "code",
   "execution_count": null,
   "metadata": {},
   "outputs": [],
   "source": []
  }
 ],
 "metadata": {
  "kernelspec": {
   "display_name": "Python 3",
   "language": "python",
   "name": "python3"
  },
  "language_info": {
   "codemirror_mode": {
    "name": "ipython",
    "version": 3
   },
   "file_extension": ".py",
   "mimetype": "text/x-python",
   "name": "python",
   "nbconvert_exporter": "python",
   "pygments_lexer": "ipython3",
   "version": "3.8.5"
  }
 },
 "nbformat": 4,
 "nbformat_minor": 4
}
